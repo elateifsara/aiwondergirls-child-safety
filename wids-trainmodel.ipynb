{
 "cells": [
  {
   "cell_type": "code",
   "execution_count": 1,
   "metadata": {},
   "outputs": [],
   "source": [
    "import mlrun\n",
    "\n",
    "\n",
    "project_name = \"widsdb2\"\n",
    "project_dir = \"conf\"\n",
    "\n",
    "wids_prj, artifact_path = mlrun.set_environment('http://mlrun-api:8080', \n",
    "                                                project=project_name, user_project=False)\n",
    "\n",
    "widsdb2_proj = mlrun.projects.load_project(project_dir,  clone=True)\n",
    "\n",
    "\n",
    "\n",
    "\n"
   ]
  },
  {
   "cell_type": "code",
   "execution_count": 2,
   "metadata": {},
   "outputs": [],
   "source": [
    "%%nuclio cmd -c\n",
    "pip install lightgbm"
   ]
  },
  {
   "cell_type": "code",
   "execution_count": 3,
   "metadata": {},
   "outputs": [],
   "source": [
    "# nuclio: start-code"
   ]
  },
  {
   "cell_type": "code",
   "execution_count": 4,
   "metadata": {},
   "outputs": [],
   "source": [
    "from sklearn import linear_model\n",
    "from sklearn import datasets\n",
    "from sklearn.model_selection import train_test_split\n",
    "from cloudpickle import dumps\n",
    "import pandas as pd\n",
    "\n",
    "from mlrun.execution import MLClientCtx\n",
    "from mlrun.datastore import DataItem\n",
    "from mlrun.mlutils.data import get_sample\n",
    "from mlrun.mlutils.plots import eval_model_v2\n",
    "from scipy.stats import kurtosis, iqr, skew, gmean, hmean, mode, normaltest, shapiro, ks_2samp\n",
    "from sklearn.preprocessing import StandardScaler, OneHotEncoder, LabelEncoder, OrdinalEncoder\n",
    "from logging import getLogger, Formatter, StreamHandler, FileHandler, INFO, ERROR\n",
    "from sklearn.compose import make_column_selector as selector\n",
    "from sklearn.compose import ColumnTransformer\n",
    "from sklearn.metrics import roc_auc_score\n",
    "from sklearn.model_selection import KFold\n",
    "from sklearn.impute import SimpleImputer\n",
    "from sklearn.pipeline import Pipeline\n",
    "import os, gc, sys, time, random, math\n",
    "from contextlib import contextmanager\n",
    "from matplotlib import pyplot as plt\n",
    "from IPython.display import display\n",
    "from scipy import stats, special\n",
    "from sklearn import set_config\n",
    "from functools import partial\n",
    "import lightgbm as lgb\n",
    "import seaborn as sns\n",
    "import pandas as pd\n",
    "import typing as tp\n",
    "import numpy as np\n",
    "import warnings\n",
    "\n",
    "\n",
    "warnings.simplefilter('ignore')"
   ]
  },
  {
   "cell_type": "code",
   "execution_count": 5,
   "metadata": {},
   "outputs": [],
   "source": [
    "def train_wids(context: MLClientCtx,\n",
    "               dataset: DataItem,\n",
    "               label_column: str = \"labels\"):\n",
    "    \n",
    "    raw, labels, header = get_sample(dataset, sample=-1, label=label_column)\n",
    "    print(raw.shape)\n",
    "    # Basic scikit-learn Iris data-set SVM model\n",
    "    X_train, X_test, y_train, y_test = train_test_split(\n",
    "        raw, labels, test_size=0.2, random_state=42)\n",
    "    \n",
    "    context.log_dataset('train_set', \n",
    "                        df=pd.concat([X_train, y_train.to_frame()], axis=1),\n",
    "                        format='csv', index=False, \n",
    "                        artifact_path=context.artifact_subpath('data'))\n",
    "\n",
    "    context.log_dataset('test_set', \n",
    "                        df=pd.concat([X_test, y_test.to_frame()], axis=1),\n",
    "                        format='csv', index=False, \n",
    "                        labels={\"data-type\": \"held-out\"},\n",
    "                        artifact_path=context.artifact_subpath('data'))\n",
    "   \n",
    "\n",
    "    lparams = {}\n",
    "\n",
    "    evals = {}\n",
    "    evals['lgb'] = {}\n",
    "    lparams = {}\n",
    "\n",
    "    seeds = [0, 1]\n",
    "    nfold = [5, 5]\n",
    "    stratified=[False, False]\n",
    "    shuffle=[True, True]\n",
    "    n_estimators = 30000\n",
    "    early_stopping_rounds = 300\n",
    "    verbose_eval = 2\n",
    "    learning_rate = 0.01\n",
    "    reg_alpha = [0.4, 1]\n",
    "    reg_lambda = [0.7, 1]\n",
    "    subsample = [0.45, 1]\n",
    "    colsample_bytree = [0.3, 0.225]\n",
    "    max_depth = -1\n",
    "    verbose = 4\n",
    "    n_jobs = 4\n",
    "    # Create callback class for retrieving trained model.\n",
    "    #extraction_cb = ModelExtractionCallback()\n",
    "    #callbacks = [\n",
    "    #    extraction_cb,\n",
    "    #]\n",
    "    \n",
    "    lparams = dict(boosting_type='gbdt',\n",
    "               objective='binary',\n",
    "               metric='auc',\n",
    "               learning_rate= learning_rate,\n",
    "               num_leaves= 200,\n",
    "               max_bin=500,\n",
    "               min_child_weight= 0.035,\n",
    "               subsample= subsample[0],\n",
    "               colsample_bytree= colsample_bytree[0],\n",
    "               min_data_in_leaf= 150,\n",
    "               max_depth= max_depth,\n",
    "               bagging_seed= seeds[0],\n",
    "               reg_alpha= reg_alpha[0],\n",
    "               reg_lambda= reg_lambda[0],\n",
    "               verbose= verbose,\n",
    "               seed= seeds[0],\n",
    "               n_jobs= n_jobs,)\n",
    "\n",
    "    evals_result = {}\n",
    "    test_preds = np.zeros(len(X_test))    \n",
    "    dtrain = lgb.Dataset(X_train, y_train)\n",
    "    dtest = lgb.Dataset(X_test, label=y_test)\n",
    "    \n",
    "    #dtest = X_test.copy()\n",
    "    testlen = X_test.shape[0]\n",
    "    \n",
    "    seed = seeds[0]\n",
    "    print(f'Training Model with SEED : {seed}')\n",
    "    i=0\n",
    "    model = lgb.train(lparams, dtrain, 100, valid_sets=dtest, early_stopping_rounds=5, evals_result=evals_result)\n",
    "    model.save_model('model.txt', num_iteration=model.best_iteration)\n",
    "    \n",
    "   \n",
    "     # Evaluate model results and get the evaluation metrics\n",
    "    #eval_metrics = eval_model_v2(context, X_test, y_test, model)\n",
    "   \n",
    "    \n",
    "    #score = model.best_score['valid_0']['auc']\n",
    "    pred = model.predict(X_test)\n",
    "    \n",
    "\n",
    "    context.log_model(\"model\",\n",
    "                      body=dumps(model),\n",
    "                      model_file=\"model.pkl\",\n",
    "                      metrics=context.results,\n",
    "                      labels={\"class\": \"lightgbm\"})\n",
    "    "
   ]
  },
  {
   "cell_type": "code",
   "execution_count": 6,
   "metadata": {},
   "outputs": [],
   "source": [
    "# nuclio: end-code"
   ]
  },
  {
   "cell_type": "code",
   "execution_count": 7,
   "metadata": {},
   "outputs": [],
   "source": [
    "train_wids_func = mlrun.code_to_function(name='train_wids',\n",
    "                                         handler='train_wids',\n",
    "                                         kind='job',\n",
    "                                         image='mlrun/ml-models')"
   ]
  },
  {
   "cell_type": "code",
   "execution_count": 8,
   "metadata": {},
   "outputs": [],
   "source": [
    "#train_wids_func.save()\n"
   ]
  },
  {
   "cell_type": "code",
   "execution_count": 9,
   "metadata": {},
   "outputs": [
    {
     "data": {
      "text/plain": [
       "<mlrun.runtimes.kubejob.KubejobRuntime at 0x7fd934219890>"
      ]
     },
     "execution_count": 9,
     "metadata": {},
     "output_type": "execute_result"
    }
   ],
   "source": [
    "fn = f'db://widsdb2/train-wids'\n",
    "f = mlrun.import_function(fn)\n",
    "f"
   ]
  },
  {
   "cell_type": "code",
   "execution_count": 10,
   "metadata": {},
   "outputs": [
    {
     "data": {
      "text/plain": [
       "<mlrun.runtimes.kubejob.KubejobRuntime at 0x7fd934219890>"
      ]
     },
     "execution_count": 10,
     "metadata": {},
     "output_type": "execute_result"
    }
   ],
   "source": [
    "widsdb2_proj.set_function(f)"
   ]
  },
  {
   "cell_type": "code",
   "execution_count": 11,
   "metadata": {},
   "outputs": [],
   "source": [
    "widsdb2_proj.save()"
   ]
  },
  {
   "cell_type": "code",
   "execution_count": 12,
   "metadata": {},
   "outputs": [
    {
     "data": {
      "text/plain": [
       "'v3io:///projects/widsdb2/artifacts/train_enc.csv'"
      ]
     },
     "execution_count": 12,
     "metadata": {},
     "output_type": "execute_result"
    }
   ],
   "source": [
    "artifact_path\n",
    "\n",
    "dfa = mlrun.get_dataitem('store://widsdb2/prep-trdata_prep_train_enc:latest')\n",
    "\n",
    "dfa"
   ]
  },
  {
   "cell_type": "code",
   "execution_count": 13,
   "metadata": {},
   "outputs": [
    {
     "data": {
      "text/html": [
       "<div>\n",
       "<style scoped>\n",
       "    .dataframe tbody tr th:only-of-type {\n",
       "        vertical-align: middle;\n",
       "    }\n",
       "\n",
       "    .dataframe tbody tr th {\n",
       "        vertical-align: top;\n",
       "    }\n",
       "\n",
       "    .dataframe thead th {\n",
       "        text-align: right;\n",
       "    }\n",
       "</style>\n",
       "<table border=\"1\" class=\"dataframe\">\n",
       "  <thead>\n",
       "    <tr style=\"text-align: right;\">\n",
       "      <th></th>\n",
       "      <th>age</th>\n",
       "      <th>bmi</th>\n",
       "      <th>elective_surgery</th>\n",
       "      <th>ethnicity</th>\n",
       "      <th>gender</th>\n",
       "      <th>height</th>\n",
       "      <th>hospital_admit_source</th>\n",
       "      <th>icu_admit_source</th>\n",
       "      <th>icu_id</th>\n",
       "      <th>icu_stay_type</th>\n",
       "      <th>...</th>\n",
       "      <th>d1_resprate_div_sysbp_min</th>\n",
       "      <th>d1_lactate_min_div_diasbp_min</th>\n",
       "      <th>d1_heartrate_min_div_d1_sysbp_min</th>\n",
       "      <th>d1_hco3_div</th>\n",
       "      <th>d1_resprate_times_resprate</th>\n",
       "      <th>left_average_spo2</th>\n",
       "      <th>total_chronic</th>\n",
       "      <th>total_cancer_immuno</th>\n",
       "      <th>has_complicator</th>\n",
       "      <th>apache_3j</th>\n",
       "    </tr>\n",
       "  </thead>\n",
       "  <tbody>\n",
       "    <tr>\n",
       "      <th>0</th>\n",
       "      <td>68.0</td>\n",
       "      <td>22.732803</td>\n",
       "      <td>0</td>\n",
       "      <td>2</td>\n",
       "      <td>1</td>\n",
       "      <td>180.3</td>\n",
       "      <td>4</td>\n",
       "      <td>1</td>\n",
       "      <td>92</td>\n",
       "      <td>0</td>\n",
       "      <td>...</td>\n",
       "      <td>0.136986</td>\n",
       "      <td>0.027027</td>\n",
       "      <td>0.986301</td>\n",
       "      <td>1.266667</td>\n",
       "      <td>340.0</td>\n",
       "      <td>91.333333</td>\n",
       "      <td>0</td>\n",
       "      <td>0</td>\n",
       "      <td>0</td>\n",
       "      <td>7</td>\n",
       "    </tr>\n",
       "    <tr>\n",
       "      <th>1</th>\n",
       "      <td>77.0</td>\n",
       "      <td>27.421875</td>\n",
       "      <td>0</td>\n",
       "      <td>2</td>\n",
       "      <td>0</td>\n",
       "      <td>160.0</td>\n",
       "      <td>4</td>\n",
       "      <td>1</td>\n",
       "      <td>90</td>\n",
       "      <td>0</td>\n",
       "      <td>...</td>\n",
       "      <td>0.179104</td>\n",
       "      <td>0.112903</td>\n",
       "      <td>1.074627</td>\n",
       "      <td>1.038462</td>\n",
       "      <td>384.0</td>\n",
       "      <td>90.000000</td>\n",
       "      <td>0</td>\n",
       "      <td>0</td>\n",
       "      <td>0</td>\n",
       "      <td>6</td>\n",
       "    </tr>\n",
       "    <tr>\n",
       "      <th>2</th>\n",
       "      <td>25.0</td>\n",
       "      <td>31.952749</td>\n",
       "      <td>0</td>\n",
       "      <td>2</td>\n",
       "      <td>0</td>\n",
       "      <td>172.7</td>\n",
       "      <td>3</td>\n",
       "      <td>0</td>\n",
       "      <td>93</td>\n",
       "      <td>0</td>\n",
       "      <td>...</td>\n",
       "      <td>0.076190</td>\n",
       "      <td>0.055834</td>\n",
       "      <td>0.647619</td>\n",
       "      <td>1.088020</td>\n",
       "      <td>168.0</td>\n",
       "      <td>95.666667</td>\n",
       "      <td>0</td>\n",
       "      <td>0</td>\n",
       "      <td>0</td>\n",
       "      <td>8</td>\n",
       "    </tr>\n",
       "    <tr>\n",
       "      <th>3</th>\n",
       "      <td>81.0</td>\n",
       "      <td>22.635548</td>\n",
       "      <td>1</td>\n",
       "      <td>2</td>\n",
       "      <td>0</td>\n",
       "      <td>165.1</td>\n",
       "      <td>8</td>\n",
       "      <td>2</td>\n",
       "      <td>92</td>\n",
       "      <td>0</td>\n",
       "      <td>...</td>\n",
       "      <td>0.083333</td>\n",
       "      <td>0.055834</td>\n",
       "      <td>1.095238</td>\n",
       "      <td>1.088020</td>\n",
       "      <td>161.0</td>\n",
       "      <td>98.333333</td>\n",
       "      <td>0</td>\n",
       "      <td>0</td>\n",
       "      <td>0</td>\n",
       "      <td>4</td>\n",
       "    </tr>\n",
       "    <tr>\n",
       "      <th>4</th>\n",
       "      <td>19.0</td>\n",
       "      <td>29.054816</td>\n",
       "      <td>0</td>\n",
       "      <td>2</td>\n",
       "      <td>1</td>\n",
       "      <td>188.0</td>\n",
       "      <td>15</td>\n",
       "      <td>0</td>\n",
       "      <td>91</td>\n",
       "      <td>0</td>\n",
       "      <td>...</td>\n",
       "      <td>0.133333</td>\n",
       "      <td>0.055834</td>\n",
       "      <td>0.500000</td>\n",
       "      <td>1.088020</td>\n",
       "      <td>288.0</td>\n",
       "      <td>98.666667</td>\n",
       "      <td>0</td>\n",
       "      <td>0</td>\n",
       "      <td>0</td>\n",
       "      <td>8</td>\n",
       "    </tr>\n",
       "  </tbody>\n",
       "</table>\n",
       "<p>5 rows × 525 columns</p>\n",
       "</div>"
      ],
      "text/plain": [
       "    age        bmi  elective_surgery  ethnicity  gender  height  \\\n",
       "0  68.0  22.732803                 0          2       1   180.3   \n",
       "1  77.0  27.421875                 0          2       0   160.0   \n",
       "2  25.0  31.952749                 0          2       0   172.7   \n",
       "3  81.0  22.635548                 1          2       0   165.1   \n",
       "4  19.0  29.054816                 0          2       1   188.0   \n",
       "\n",
       "   hospital_admit_source  icu_admit_source  icu_id  icu_stay_type  ...  \\\n",
       "0                      4                 1      92              0  ...   \n",
       "1                      4                 1      90              0  ...   \n",
       "2                      3                 0      93              0  ...   \n",
       "3                      8                 2      92              0  ...   \n",
       "4                     15                 0      91              0  ...   \n",
       "\n",
       "   d1_resprate_div_sysbp_min  d1_lactate_min_div_diasbp_min  \\\n",
       "0                   0.136986                       0.027027   \n",
       "1                   0.179104                       0.112903   \n",
       "2                   0.076190                       0.055834   \n",
       "3                   0.083333                       0.055834   \n",
       "4                   0.133333                       0.055834   \n",
       "\n",
       "   d1_heartrate_min_div_d1_sysbp_min  d1_hco3_div  d1_resprate_times_resprate  \\\n",
       "0                           0.986301     1.266667                       340.0   \n",
       "1                           1.074627     1.038462                       384.0   \n",
       "2                           0.647619     1.088020                       168.0   \n",
       "3                           1.095238     1.088020                       161.0   \n",
       "4                           0.500000     1.088020                       288.0   \n",
       "\n",
       "   left_average_spo2  total_chronic  total_cancer_immuno  has_complicator  \\\n",
       "0          91.333333              0                    0                0   \n",
       "1          90.000000              0                    0                0   \n",
       "2          95.666667              0                    0                0   \n",
       "3          98.333333              0                    0                0   \n",
       "4          98.666667              0                    0                0   \n",
       "\n",
       "   apache_3j  \n",
       "0          7  \n",
       "1          6  \n",
       "2          8  \n",
       "3          4  \n",
       "4          8  \n",
       "\n",
       "[5 rows x 525 columns]"
      ]
     },
     "execution_count": 13,
     "metadata": {},
     "output_type": "execute_result"
    }
   ],
   "source": [
    "## The preprocessed train data is located here \n",
    "\n",
    "\n",
    "dataset = f'store://widsdb2/prep-trdata_prep_train_enc:latest'\n",
    "df = mlrun.get_dataitem(dataset).as_df()\n",
    "df.head()"
   ]
  },
  {
   "cell_type": "code",
   "execution_count": 14,
   "metadata": {},
   "outputs": [
    {
     "data": {
      "text/plain": [
       "age                    0\n",
       "bmi                    0\n",
       "elective_surgery       0\n",
       "ethnicity              0\n",
       "gender                 0\n",
       "                      ..\n",
       "left_average_spo2      0\n",
       "total_chronic          0\n",
       "total_cancer_immuno    0\n",
       "has_complicator        0\n",
       "apache_3j              0\n",
       "Length: 525, dtype: int64"
      ]
     },
     "execution_count": 14,
     "metadata": {},
     "output_type": "execute_result"
    }
   ],
   "source": [
    "#dfx = df.dropna()\n",
    "#raw = raw.iloc[:sample, :]\n",
    "df.isna().sum()       "
   ]
  },
  {
   "cell_type": "code",
   "execution_count": 15,
   "metadata": {},
   "outputs": [
    {
     "data": {
      "text/plain": [
       "0         1\n",
       "1         1\n",
       "2         0\n",
       "3         0\n",
       "4         0\n",
       "         ..\n",
       "130152    0\n",
       "130153    0\n",
       "130154    1\n",
       "130155    0\n",
       "130156    0\n",
       "Name: diabetes_mellitus, Length: 130157, dtype: int64"
      ]
     },
     "execution_count": 15,
     "metadata": {},
     "output_type": "execute_result"
    }
   ],
   "source": [
    "df['diabetes_mellitus']"
   ]
  },
  {
   "cell_type": "code",
   "execution_count": 16,
   "metadata": {},
   "outputs": [
    {
     "data": {
      "text/plain": [
       "Index(['age', 'bmi', 'elective_surgery', 'ethnicity', 'gender', 'height',\n",
       "       'hospital_admit_source', 'icu_admit_source', 'icu_id', 'icu_stay_type',\n",
       "       ...\n",
       "       'd1_resprate_div_sysbp_min', 'd1_lactate_min_div_diasbp_min',\n",
       "       'd1_heartrate_min_div_d1_sysbp_min', 'd1_hco3_div',\n",
       "       'd1_resprate_times_resprate', 'left_average_spo2', 'total_chronic',\n",
       "       'total_cancer_immuno', 'has_complicator', 'apache_3j'],\n",
       "      dtype='object', length=525)"
      ]
     },
     "execution_count": 16,
     "metadata": {},
     "output_type": "execute_result"
    }
   ],
   "source": [
    "df.columns"
   ]
  },
  {
   "cell_type": "code",
   "execution_count": 17,
   "metadata": {},
   "outputs": [
    {
     "data": {
      "text/plain": [
       "0         1\n",
       "1         1\n",
       "2         0\n",
       "3         0\n",
       "4         0\n",
       "         ..\n",
       "130152    0\n",
       "130153    0\n",
       "130154    1\n",
       "130155    0\n",
       "130156    0\n",
       "Name: diabetes_mellitus, Length: 130157, dtype: int64"
      ]
     },
     "execution_count": 17,
     "metadata": {},
     "output_type": "execute_result"
    }
   ],
   "source": [
    "dfa = df\n",
    "dfa['diabetes_mellitus']"
   ]
  },
  {
   "cell_type": "code",
   "execution_count": 18,
   "metadata": {},
   "outputs": [
    {
     "name": "stdout",
     "output_type": "stream",
     "text": [
      "> 2021-07-01 12:36:11,349 [info] starting run train-wids-train_wids uid=dc7f93e30aa34c87a1475219ab6c1e06 DB=http://mlrun-api:8080\n",
      "> 2021-07-01 12:36:11,750 [info] Job is running in the background, pod: train-wids-train-wids-p9dhp\n",
      "(130156, 524)\n",
      "Training Model with SEED : 0\n",
      "[LightGBM] [Info] Number of positive: 22459, number of negative: 81665\n",
      "[LightGBM] [Debug] Dataset::GetMultiBinFromSparseFeatures: sparse rate 0.851008\n",
      "[LightGBM] [Debug] Dataset::GetMultiBinFromAllFeatures: sparse rate 0.522800\n",
      "[LightGBM] [Debug] init for col-wise cost 0.229498 seconds, init for row-wise cost 0.370799 seconds\n",
      "[LightGBM] [Warning] Auto-choosing col-wise multi-threading, the overhead of testing was 0.391584 seconds.\n",
      "You can set `force_col_wise=true` to remove the overhead.\n",
      "[LightGBM] [Info] Total Bins 66462\n",
      "[LightGBM] [Info] Number of data points in the train set: 104124, number of used features: 518\n",
      "[LightGBM] [Info] [binary:BoostFromScore]: pavg=0.215695 -> initscore=-1.290934\n",
      "[LightGBM] [Info] Start training from score -1.290934\n",
      "[LightGBM] [Debug] Trained a tree with leaves = 200 and depth = 14\n",
      "[1]\tvalid_0's auc: 0.753853\n",
      "Training until validation scores don't improve for 5 rounds\n",
      "[LightGBM] [Debug] Trained a tree with leaves = 200 and depth = 14\n",
      "[2]\tvalid_0's auc: 0.811632\n",
      "[LightGBM] [Debug] Trained a tree with leaves = 200 and depth = 15\n",
      "[3]\tvalid_0's auc: 0.823984\n",
      "[LightGBM] [Debug] Trained a tree with leaves = 200 and depth = 20\n",
      "[4]\tvalid_0's auc: 0.824889\n",
      "[LightGBM] [Debug] Trained a tree with leaves = 200 and depth = 14\n",
      "[5]\tvalid_0's auc: 0.824879\n",
      "[LightGBM] [Debug] Trained a tree with leaves = 200 and depth = 15\n",
      "[6]\tvalid_0's auc: 0.827672\n",
      "[LightGBM] [Debug] Trained a tree with leaves = 200 and depth = 16\n",
      "[7]\tvalid_0's auc: 0.829536\n",
      "[LightGBM] [Debug] Trained a tree with leaves = 200 and depth = 14\n",
      "[8]\tvalid_0's auc: 0.831083\n",
      "[LightGBM] [Debug] Trained a tree with leaves = 200 and depth = 15\n",
      "[9]\tvalid_0's auc: 0.833559\n",
      "[LightGBM] [Debug] Trained a tree with leaves = 200 and depth = 14\n",
      "[10]\tvalid_0's auc: 0.835383\n",
      "[LightGBM] [Debug] Trained a tree with leaves = 200 and depth = 13\n",
      "[11]\tvalid_0's auc: 0.836342\n",
      "[LightGBM] [Debug] Trained a tree with leaves = 200 and depth = 14\n",
      "[12]\tvalid_0's auc: 0.836144\n",
      "[LightGBM] [Debug] Trained a tree with leaves = 200 and depth = 14\n",
      "[13]\tvalid_0's auc: 0.837068\n",
      "[LightGBM] [Debug] Trained a tree with leaves = 200 and depth = 16\n",
      "[14]\tvalid_0's auc: 0.838292\n",
      "[LightGBM] [Debug] Trained a tree with leaves = 200 and depth = 15\n",
      "[15]\tvalid_0's auc: 0.83811\n",
      "[LightGBM] [Debug] Trained a tree with leaves = 200 and depth = 14\n",
      "[16]\tvalid_0's auc: 0.838611\n",
      "[LightGBM] [Debug] Trained a tree with leaves = 200 and depth = 16\n",
      "[17]\tvalid_0's auc: 0.839364\n",
      "[LightGBM] [Debug] Trained a tree with leaves = 200 and depth = 13\n",
      "[18]\tvalid_0's auc: 0.839772\n",
      "[LightGBM] [Debug] Trained a tree with leaves = 200 and depth = 13\n",
      "[19]\tvalid_0's auc: 0.839502\n",
      "[LightGBM] [Debug] Trained a tree with leaves = 200 and depth = 15\n",
      "[20]\tvalid_0's auc: 0.839657\n",
      "[LightGBM] [Debug] Trained a tree with leaves = 200 and depth = 14\n",
      "[21]\tvalid_0's auc: 0.839534\n",
      "[LightGBM] [Debug] Trained a tree with leaves = 200 and depth = 16\n",
      "[22]\tvalid_0's auc: 0.839806\n",
      "[LightGBM] [Debug] Trained a tree with leaves = 200 and depth = 13\n",
      "[23]\tvalid_0's auc: 0.839909\n",
      "[LightGBM] [Debug] Trained a tree with leaves = 200 and depth = 14\n",
      "[24]\tvalid_0's auc: 0.839949\n",
      "[LightGBM] [Debug] Trained a tree with leaves = 200 and depth = 14\n",
      "[25]\tvalid_0's auc: 0.840239\n",
      "[LightGBM] [Debug] Trained a tree with leaves = 200 and depth = 15\n",
      "[26]\tvalid_0's auc: 0.840231\n",
      "[LightGBM] [Debug] Trained a tree with leaves = 200 and depth = 16\n",
      "[27]\tvalid_0's auc: 0.840105\n",
      "[LightGBM] [Debug] Trained a tree with leaves = 200 and depth = 14\n",
      "[28]\tvalid_0's auc: 0.840013\n",
      "[LightGBM] [Debug] Trained a tree with leaves = 200 and depth = 17\n",
      "[29]\tvalid_0's auc: 0.840116\n",
      "[LightGBM] [Debug] Trained a tree with leaves = 200 and depth = 14\n",
      "[30]\tvalid_0's auc: 0.840126\n",
      "Early stopping, best iteration is:\n",
      "[25]\tvalid_0's auc: 0.840239\n",
      "> 2021-07-01 12:37:43,995 [info] run executed, status=completed\n",
      "final state: completed\n"
     ]
    },
    {
     "data": {
      "text/html": [
       "<style>\n",
       ".dictlist {\n",
       "  background-color: #4EC64B;\n",
       "  text-align: center;\n",
       "  margin: 4px;\n",
       "  border-radius: 3px; padding: 0px 3px 1px 3px; display: inline-block;}\n",
       ".artifact {\n",
       "  cursor: pointer;\n",
       "  background-color: #4EC64B;\n",
       "  text-align: left;\n",
       "  margin: 4px; border-radius: 3px; padding: 0px 3px 1px 3px; display: inline-block;\n",
       "}\n",
       "div.block.hidden {\n",
       "  display: none;\n",
       "}\n",
       ".clickable {\n",
       "  cursor: pointer;\n",
       "}\n",
       ".ellipsis {\n",
       "  display: inline-block;\n",
       "  max-width: 60px;\n",
       "  white-space: nowrap;\n",
       "  overflow: hidden;\n",
       "  text-overflow: ellipsis;\n",
       "}\n",
       ".master-wrapper {\n",
       "  display: flex;\n",
       "  flex-flow: row nowrap;\n",
       "  justify-content: flex-start;\n",
       "  align-items: stretch;\n",
       "}\n",
       ".master-tbl {\n",
       "  flex: 3\n",
       "}\n",
       ".master-wrapper > div {\n",
       "  margin: 4px;\n",
       "  padding: 10px;\n",
       "}\n",
       "iframe.fileview {\n",
       "  border: 0 none;\n",
       "  height: 100%;\n",
       "  width: 100%;\n",
       "  white-space: pre-wrap;\n",
       "}\n",
       ".pane-header-title {\n",
       "  width: 80%;\n",
       "  font-weight: 500;\n",
       "}\n",
       ".pane-header {\n",
       "  line-height: 1;\n",
       "  background-color: #4EC64B;\n",
       "  padding: 3px;\n",
       "}\n",
       ".pane-header .close {\n",
       "  font-size: 20px;\n",
       "  font-weight: 700;\n",
       "  float: right;\n",
       "  margin-top: -5px;\n",
       "}\n",
       ".master-wrapper .right-pane {\n",
       "  border: 1px inset silver;\n",
       "  width: 40%;\n",
       "  min-height: 300px;\n",
       "  flex: 3\n",
       "  min-width: 500px;\n",
       "}\n",
       ".master-wrapper * {\n",
       "  box-sizing: border-box;\n",
       "}\n",
       "</style><script>\n",
       "function copyToClipboard(fld) {\n",
       "    if (document.queryCommandSupported && document.queryCommandSupported('copy')) {\n",
       "        var textarea = document.createElement('textarea');\n",
       "        textarea.textContent = fld.innerHTML;\n",
       "        textarea.style.position = 'fixed';\n",
       "        document.body.appendChild(textarea);\n",
       "        textarea.select();\n",
       "\n",
       "        try {\n",
       "            return document.execCommand('copy'); // Security exception may be thrown by some browsers.\n",
       "        } catch (ex) {\n",
       "\n",
       "        } finally {\n",
       "            document.body.removeChild(textarea);\n",
       "        }\n",
       "    }\n",
       "}\n",
       "function expandPanel(el) {\n",
       "  const panelName = \"#\" + el.getAttribute('paneName');\n",
       "  console.log(el.title);\n",
       "\n",
       "  document.querySelector(panelName + \"-title\").innerHTML = el.title\n",
       "  iframe = document.querySelector(panelName + \"-body\");\n",
       "\n",
       "  const tblcss = `<style> body { font-family: Arial, Helvetica, sans-serif;}\n",
       "    #csv { margin-bottom: 15px; }\n",
       "    #csv table { border-collapse: collapse;}\n",
       "    #csv table td { padding: 4px 8px; border: 1px solid silver;} </style>`;\n",
       "\n",
       "  function csvToHtmlTable(str) {\n",
       "    return '<div id=\"csv\"><table><tr><td>' +  str.replace(/[\\n\\r]+$/g, '').replace(/[\\n\\r]+/g, '</td></tr><tr><td>')\n",
       "      .replace(/,/g, '</td><td>') + '</td></tr></table></div>';\n",
       "  }\n",
       "\n",
       "  function reqListener () {\n",
       "    if (el.title.endsWith(\".csv\")) {\n",
       "      iframe.setAttribute(\"srcdoc\", tblcss + csvToHtmlTable(this.responseText));\n",
       "    } else {\n",
       "      iframe.setAttribute(\"srcdoc\", this.responseText);\n",
       "    }\n",
       "    console.log(this.responseText);\n",
       "  }\n",
       "\n",
       "  const oReq = new XMLHttpRequest();\n",
       "  oReq.addEventListener(\"load\", reqListener);\n",
       "  oReq.open(\"GET\", el.title);\n",
       "  oReq.send();\n",
       "\n",
       "\n",
       "  //iframe.src = el.title;\n",
       "  const resultPane = document.querySelector(panelName + \"-pane\");\n",
       "  if (resultPane.classList.contains(\"hidden\")) {\n",
       "    resultPane.classList.remove(\"hidden\");\n",
       "  }\n",
       "}\n",
       "function closePanel(el) {\n",
       "  const panelName = \"#\" + el.getAttribute('paneName')\n",
       "  const resultPane = document.querySelector(panelName + \"-pane\");\n",
       "  if (!resultPane.classList.contains(\"hidden\")) {\n",
       "    resultPane.classList.add(\"hidden\");\n",
       "  }\n",
       "}\n",
       "\n",
       "</script>\n",
       "<div class=\"master-wrapper\">\n",
       "  <div class=\"block master-tbl\"><div>\n",
       "<style scoped>\n",
       "    .dataframe tbody tr th:only-of-type {\n",
       "        vertical-align: middle;\n",
       "    }\n",
       "\n",
       "    .dataframe tbody tr th {\n",
       "        vertical-align: top;\n",
       "    }\n",
       "\n",
       "    .dataframe thead th {\n",
       "        text-align: right;\n",
       "    }\n",
       "</style>\n",
       "<table border=\"1\" class=\"dataframe\">\n",
       "  <thead>\n",
       "    <tr style=\"text-align: right;\">\n",
       "      <th>project</th>\n",
       "      <th>uid</th>\n",
       "      <th>iter</th>\n",
       "      <th>start</th>\n",
       "      <th>state</th>\n",
       "      <th>name</th>\n",
       "      <th>labels</th>\n",
       "      <th>inputs</th>\n",
       "      <th>parameters</th>\n",
       "      <th>results</th>\n",
       "      <th>artifacts</th>\n",
       "    </tr>\n",
       "  </thead>\n",
       "  <tbody>\n",
       "    <tr>\n",
       "      <td>widsdb2</td>\n",
       "      <td><div title=\"dc7f93e30aa34c87a1475219ab6c1e06\"><a href=\"https://dashboard.default-tenant.app.mlops1.iguazio-c0.com/mlprojects/widsdb2/jobs/monitor/dc7f93e30aa34c87a1475219ab6c1e06/overview\" target=\"_blank\" >...ab6c1e06</a></div></td>\n",
       "      <td>0</td>\n",
       "      <td>Jul 01 12:36:18</td>\n",
       "      <td>completed</td>\n",
       "      <td>train-wids-train_wids</td>\n",
       "      <td><div class=\"dictlist\">v3io_user=aruna_lanka</div><div class=\"dictlist\">kind=job</div><div class=\"dictlist\">owner=aruna_lanka</div><div class=\"dictlist\">host=train-wids-train-wids-p9dhp</div></td>\n",
       "      <td><div title=\"store://widsdb2/prep-trdata_prep_train_enc:latest\">dataset</div></td>\n",
       "      <td><div class=\"dictlist\">label_column=diabetes_mellitus</div></td>\n",
       "      <td></td>\n",
       "      <td><div class=\"artifact\" onclick=\"expandPanel(this)\" paneName=\"result61dd3f73\" title=\"files/v3io/projects/widsdb2/artifacts/data/train_set.csv\">train_set</div><div class=\"artifact\" onclick=\"expandPanel(this)\" paneName=\"result61dd3f73\" title=\"files/v3io/projects/widsdb2/artifacts/data/test_set.csv\">test_set</div><div title=\"v3io:///projects/widsdb2/artifacts/\">model</div></td>\n",
       "    </tr>\n",
       "  </tbody>\n",
       "</table>\n",
       "</div></div>\n",
       "  <div id=\"result61dd3f73-pane\" class=\"right-pane block hidden\">\n",
       "    <div class=\"pane-header\">\n",
       "      <span id=\"result61dd3f73-title\" class=\"pane-header-title\">Title</span>\n",
       "      <span onclick=\"closePanel(this)\" paneName=\"result61dd3f73\" class=\"close clickable\">&times;</span>\n",
       "    </div>\n",
       "    <iframe class=\"fileview\" id=\"result61dd3f73-body\"></iframe>\n",
       "  </div>\n",
       "</div>\n"
      ],
      "text/plain": [
       "<IPython.core.display.HTML object>"
      ]
     },
     "metadata": {},
     "output_type": "display_data"
    },
    {
     "name": "stdout",
     "output_type": "stream",
     "text": [
      "to track results use .show() or .logs() or in CLI: \n",
      "!mlrun get run dc7f93e30aa34c87a1475219ab6c1e06 --project widsdb2 , !mlrun logs dc7f93e30aa34c87a1475219ab6c1e06 --project widsdb2\n",
      "> 2021-07-01 12:37:51,823 [info] run executed, status=completed\n"
     ]
    },
    {
     "data": {
      "text/plain": [
       "<mlrun.model.RunObject at 0x7fd93515cc10>"
      ]
     },
     "execution_count": 18,
     "metadata": {},
     "output_type": "execute_result"
    }
   ],
   "source": [
    "train_wids_func.apply(mlrun.platforms.auto_mount())\n",
    "train_wids_func.run(inputs={'dataset': dataset},\n",
    "                                params={'label_column': 'diabetes_mellitus'})"
   ]
  },
  {
   "cell_type": "code",
   "execution_count": null,
   "metadata": {},
   "outputs": [],
   "source": []
  },
  {
   "cell_type": "code",
   "execution_count": 21,
   "metadata": {},
   "outputs": [
    {
     "name": "stdout",
     "output_type": "stream",
     "text": [
      "> 2021-07-01 12:38:22,697 [info] starting run train-wids-train_wids uid=0cb6650d1ed34619b173db506d3ae472 DB=http://mlrun-api:8080\n",
      "(130156, 524)\n",
      "Training Model with SEED : 0\n",
      "[1]\tvalid_0's auc: 0.752827\n",
      "Training until validation scores don't improve for 5 rounds\n",
      "[2]\tvalid_0's auc: 0.769704\n",
      "[3]\tvalid_0's auc: 0.811719\n",
      "[4]\tvalid_0's auc: 0.824077\n",
      "[5]\tvalid_0's auc: 0.824225\n",
      "[6]\tvalid_0's auc: 0.823175\n",
      "[7]\tvalid_0's auc: 0.826803\n",
      "[8]\tvalid_0's auc: 0.829315\n",
      "[9]\tvalid_0's auc: 0.831111\n",
      "[10]\tvalid_0's auc: 0.833628\n",
      "[11]\tvalid_0's auc: 0.835518\n",
      "[12]\tvalid_0's auc: 0.836519\n",
      "[13]\tvalid_0's auc: 0.836474\n",
      "[14]\tvalid_0's auc: 0.837285\n",
      "[15]\tvalid_0's auc: 0.83829\n",
      "[16]\tvalid_0's auc: 0.838227\n",
      "[17]\tvalid_0's auc: 0.838745\n",
      "[18]\tvalid_0's auc: 0.839503\n",
      "[19]\tvalid_0's auc: 0.839855\n",
      "[20]\tvalid_0's auc: 0.839679\n",
      "[21]\tvalid_0's auc: 0.839848\n",
      "[22]\tvalid_0's auc: 0.839709\n",
      "[23]\tvalid_0's auc: 0.839978\n",
      "[24]\tvalid_0's auc: 0.840041\n",
      "[25]\tvalid_0's auc: 0.839973\n",
      "[26]\tvalid_0's auc: 0.840239\n",
      "[27]\tvalid_0's auc: 0.840207\n",
      "[28]\tvalid_0's auc: 0.840097\n",
      "[29]\tvalid_0's auc: 0.840017\n",
      "[30]\tvalid_0's auc: 0.840148\n",
      "[31]\tvalid_0's auc: 0.840153\n",
      "Early stopping, best iteration is:\n",
      "[26]\tvalid_0's auc: 0.840239\n"
     ]
    },
    {
     "data": {
      "text/html": [
       "<style>\n",
       ".dictlist {\n",
       "  background-color: #4EC64B;\n",
       "  text-align: center;\n",
       "  margin: 4px;\n",
       "  border-radius: 3px; padding: 0px 3px 1px 3px; display: inline-block;}\n",
       ".artifact {\n",
       "  cursor: pointer;\n",
       "  background-color: #4EC64B;\n",
       "  text-align: left;\n",
       "  margin: 4px; border-radius: 3px; padding: 0px 3px 1px 3px; display: inline-block;\n",
       "}\n",
       "div.block.hidden {\n",
       "  display: none;\n",
       "}\n",
       ".clickable {\n",
       "  cursor: pointer;\n",
       "}\n",
       ".ellipsis {\n",
       "  display: inline-block;\n",
       "  max-width: 60px;\n",
       "  white-space: nowrap;\n",
       "  overflow: hidden;\n",
       "  text-overflow: ellipsis;\n",
       "}\n",
       ".master-wrapper {\n",
       "  display: flex;\n",
       "  flex-flow: row nowrap;\n",
       "  justify-content: flex-start;\n",
       "  align-items: stretch;\n",
       "}\n",
       ".master-tbl {\n",
       "  flex: 3\n",
       "}\n",
       ".master-wrapper > div {\n",
       "  margin: 4px;\n",
       "  padding: 10px;\n",
       "}\n",
       "iframe.fileview {\n",
       "  border: 0 none;\n",
       "  height: 100%;\n",
       "  width: 100%;\n",
       "  white-space: pre-wrap;\n",
       "}\n",
       ".pane-header-title {\n",
       "  width: 80%;\n",
       "  font-weight: 500;\n",
       "}\n",
       ".pane-header {\n",
       "  line-height: 1;\n",
       "  background-color: #4EC64B;\n",
       "  padding: 3px;\n",
       "}\n",
       ".pane-header .close {\n",
       "  font-size: 20px;\n",
       "  font-weight: 700;\n",
       "  float: right;\n",
       "  margin-top: -5px;\n",
       "}\n",
       ".master-wrapper .right-pane {\n",
       "  border: 1px inset silver;\n",
       "  width: 40%;\n",
       "  min-height: 300px;\n",
       "  flex: 3\n",
       "  min-width: 500px;\n",
       "}\n",
       ".master-wrapper * {\n",
       "  box-sizing: border-box;\n",
       "}\n",
       "</style><script>\n",
       "function copyToClipboard(fld) {\n",
       "    if (document.queryCommandSupported && document.queryCommandSupported('copy')) {\n",
       "        var textarea = document.createElement('textarea');\n",
       "        textarea.textContent = fld.innerHTML;\n",
       "        textarea.style.position = 'fixed';\n",
       "        document.body.appendChild(textarea);\n",
       "        textarea.select();\n",
       "\n",
       "        try {\n",
       "            return document.execCommand('copy'); // Security exception may be thrown by some browsers.\n",
       "        } catch (ex) {\n",
       "\n",
       "        } finally {\n",
       "            document.body.removeChild(textarea);\n",
       "        }\n",
       "    }\n",
       "}\n",
       "function expandPanel(el) {\n",
       "  const panelName = \"#\" + el.getAttribute('paneName');\n",
       "  console.log(el.title);\n",
       "\n",
       "  document.querySelector(panelName + \"-title\").innerHTML = el.title\n",
       "  iframe = document.querySelector(panelName + \"-body\");\n",
       "\n",
       "  const tblcss = `<style> body { font-family: Arial, Helvetica, sans-serif;}\n",
       "    #csv { margin-bottom: 15px; }\n",
       "    #csv table { border-collapse: collapse;}\n",
       "    #csv table td { padding: 4px 8px; border: 1px solid silver;} </style>`;\n",
       "\n",
       "  function csvToHtmlTable(str) {\n",
       "    return '<div id=\"csv\"><table><tr><td>' +  str.replace(/[\\n\\r]+$/g, '').replace(/[\\n\\r]+/g, '</td></tr><tr><td>')\n",
       "      .replace(/,/g, '</td><td>') + '</td></tr></table></div>';\n",
       "  }\n",
       "\n",
       "  function reqListener () {\n",
       "    if (el.title.endsWith(\".csv\")) {\n",
       "      iframe.setAttribute(\"srcdoc\", tblcss + csvToHtmlTable(this.responseText));\n",
       "    } else {\n",
       "      iframe.setAttribute(\"srcdoc\", this.responseText);\n",
       "    }\n",
       "    console.log(this.responseText);\n",
       "  }\n",
       "\n",
       "  const oReq = new XMLHttpRequest();\n",
       "  oReq.addEventListener(\"load\", reqListener);\n",
       "  oReq.open(\"GET\", el.title);\n",
       "  oReq.send();\n",
       "\n",
       "\n",
       "  //iframe.src = el.title;\n",
       "  const resultPane = document.querySelector(panelName + \"-pane\");\n",
       "  if (resultPane.classList.contains(\"hidden\")) {\n",
       "    resultPane.classList.remove(\"hidden\");\n",
       "  }\n",
       "}\n",
       "function closePanel(el) {\n",
       "  const panelName = \"#\" + el.getAttribute('paneName')\n",
       "  const resultPane = document.querySelector(panelName + \"-pane\");\n",
       "  if (!resultPane.classList.contains(\"hidden\")) {\n",
       "    resultPane.classList.add(\"hidden\");\n",
       "  }\n",
       "}\n",
       "\n",
       "</script>\n",
       "<div class=\"master-wrapper\">\n",
       "  <div class=\"block master-tbl\"><div>\n",
       "<style scoped>\n",
       "    .dataframe tbody tr th:only-of-type {\n",
       "        vertical-align: middle;\n",
       "    }\n",
       "\n",
       "    .dataframe tbody tr th {\n",
       "        vertical-align: top;\n",
       "    }\n",
       "\n",
       "    .dataframe thead th {\n",
       "        text-align: right;\n",
       "    }\n",
       "</style>\n",
       "<table border=\"1\" class=\"dataframe\">\n",
       "  <thead>\n",
       "    <tr style=\"text-align: right;\">\n",
       "      <th>project</th>\n",
       "      <th>uid</th>\n",
       "      <th>iter</th>\n",
       "      <th>start</th>\n",
       "      <th>state</th>\n",
       "      <th>name</th>\n",
       "      <th>labels</th>\n",
       "      <th>inputs</th>\n",
       "      <th>parameters</th>\n",
       "      <th>results</th>\n",
       "      <th>artifacts</th>\n",
       "    </tr>\n",
       "  </thead>\n",
       "  <tbody>\n",
       "    <tr>\n",
       "      <td>widsdb2</td>\n",
       "      <td><div title=\"0cb6650d1ed34619b173db506d3ae472\"><a href=\"https://dashboard.default-tenant.app.mlops1.iguazio-c0.com/mlprojects/widsdb2/jobs/monitor/0cb6650d1ed34619b173db506d3ae472/overview\" target=\"_blank\" >...6d3ae472</a></div></td>\n",
       "      <td>0</td>\n",
       "      <td>Jul 01 12:38:22</td>\n",
       "      <td>completed</td>\n",
       "      <td>train-wids-train_wids</td>\n",
       "      <td><div class=\"dictlist\">v3io_user=aruna_lanka</div><div class=\"dictlist\">kind=</div><div class=\"dictlist\">owner=aruna_lanka</div><div class=\"dictlist\">host=jupyter-svc-68f96fcc4c-wjtq2</div></td>\n",
       "      <td><div title=\"store://widsdb2/prep-trdata_prep_train_enc:latest\">dataset</div></td>\n",
       "      <td><div class=\"dictlist\">label_column=diabetes_mellitus</div></td>\n",
       "      <td></td>\n",
       "      <td><div class=\"artifact\" onclick=\"expandPanel(this)\" paneName=\"result27cd9f51\" title=\"files/v3io/projects/widsdb2/artifacts/data/train_set.csv\">train_set</div><div class=\"artifact\" onclick=\"expandPanel(this)\" paneName=\"result27cd9f51\" title=\"files/v3io/projects/widsdb2/artifacts/data/test_set.csv\">test_set</div><div title=\"v3io:///projects/widsdb2/artifacts/\">model</div></td>\n",
       "    </tr>\n",
       "  </tbody>\n",
       "</table>\n",
       "</div></div>\n",
       "  <div id=\"result27cd9f51-pane\" class=\"right-pane block hidden\">\n",
       "    <div class=\"pane-header\">\n",
       "      <span id=\"result27cd9f51-title\" class=\"pane-header-title\">Title</span>\n",
       "      <span onclick=\"closePanel(this)\" paneName=\"result27cd9f51\" class=\"close clickable\">&times;</span>\n",
       "    </div>\n",
       "    <iframe class=\"fileview\" id=\"result27cd9f51-body\"></iframe>\n",
       "  </div>\n",
       "</div>\n"
      ],
      "text/plain": [
       "<IPython.core.display.HTML object>"
      ]
     },
     "metadata": {},
     "output_type": "display_data"
    },
    {
     "name": "stdout",
     "output_type": "stream",
     "text": [
      "to track results use .show() or .logs() or in CLI: \n",
      "!mlrun get run 0cb6650d1ed34619b173db506d3ae472 --project widsdb2 , !mlrun logs 0cb6650d1ed34619b173db506d3ae472 --project widsdb2\n",
      "> 2021-07-01 12:39:47,120 [info] run executed, status=completed\n"
     ]
    }
   ],
   "source": [
    "train_run = train_wids_func.run(inputs={'dataset': dataset},\n",
    "                                params={'label_column': 'diabetes_mellitus'},\n",
    "                               local=True)"
   ]
  },
  {
   "cell_type": "code",
   "execution_count": 22,
   "metadata": {},
   "outputs": [
    {
     "name": "stdout",
     "output_type": "stream",
     "text": [
      "store://artifacts/widsdb2/train-wids-train_wids_model:0cb6650d1ed34619b173db506d3ae472\n"
     ]
    }
   ],
   "source": [
    "print (train_run.outputs['model'])\n",
    "\n"
   ]
  },
  {
   "cell_type": "code",
   "execution_count": 23,
   "metadata": {},
   "outputs": [
    {
     "name": "stdout",
     "output_type": "stream",
     "text": [
      "store://artifacts/widsdb2/train-wids-train_wids_test_set:0cb6650d1ed34619b173db506d3ae472\n"
     ]
    }
   ],
   "source": [
    "print (train_run.outputs['test_set'])"
   ]
  },
  {
   "cell_type": "code",
   "execution_count": 24,
   "metadata": {},
   "outputs": [],
   "source": [
    "from mlrun.platforms import auto_mount\n",
    "describe = mlrun.import_function('hub://describe').apply(auto_mount())\n",
    "test_classifier = mlrun.import_function('hub://test-classifier').apply(auto_mount())"
   ]
  },
  {
   "cell_type": "code",
   "execution_count": 25,
   "metadata": {},
   "outputs": [
    {
     "data": {
      "text/plain": [
       "<mlrun.runtimes.kubejob.KubejobRuntime at 0x7fd933dee650>"
      ]
     },
     "execution_count": 25,
     "metadata": {},
     "output_type": "execute_result"
    }
   ],
   "source": [
    "widsdb2_proj.set_function(describe)\n",
    "widsdb2_proj.set_function(test_classifier)\n",
    "\n"
   ]
  },
  {
   "cell_type": "code",
   "execution_count": 26,
   "metadata": {},
   "outputs": [],
   "source": [
    "widsdb2_proj.save()"
   ]
  },
  {
   "cell_type": "code",
   "execution_count": 27,
   "metadata": {
    "collapsed": true,
    "jupyter": {
     "outputs_hidden": true
    }
   },
   "outputs": [
    {
     "name": "stdout",
     "output_type": "stream",
     "text": [
      "> 2021-07-01 12:40:09,454 [info] starting run describe-summarize uid=313f1dfa5dc54f7e831bd5f4a1e48e7b DB=http://mlrun-api:8080\n",
      "> 2021-07-01 12:40:09,775 [info] Job is running in the background, pod: describe-summarize-6mv6s\n"
     ]
    },
    {
     "ename": "KeyboardInterrupt",
     "evalue": "",
     "output_type": "error",
     "traceback": [
      "\u001b[0;31m---------------------------------------------------------------------------\u001b[0m",
      "\u001b[0;31mKeyboardInterrupt\u001b[0m                         Traceback (most recent call last)",
      "\u001b[0;32m<ipython-input-27-da5007aea2d7>\u001b[0m in \u001b[0;36m<module>\u001b[0;34m\u001b[0m\n\u001b[1;32m      1\u001b[0m describe_run = describe.run(params={'label_column': 'diabetes_mellitus2'},\n\u001b[1;32m      2\u001b[0m                             inputs={\"table\":\n\u001b[0;32m----> 3\u001b[0;31m                                     train_run.outputs['test_set']})\n\u001b[0m",
      "\u001b[0;32m~/.pythonlibs/jupyter-svc/lib/python3.7/site-packages/mlrun/runtimes/base.py\u001b[0m in \u001b[0;36mrun\u001b[0;34m(self, runspec, handler, name, project, params, inputs, out_path, workdir, artifact_path, watch, schedule, hyperparams, hyper_param_options, verbose, scrape_metrics, local, local_code_path)\u001b[0m\n\u001b[1;32m    414\u001b[0m                         \u001b[0mlogger\u001b[0m\u001b[0;34m.\u001b[0m\u001b[0minfo\u001b[0m\u001b[0;34m(\u001b[0m\u001b[0mtxt\u001b[0m\u001b[0;34m)\u001b[0m\u001b[0;34m\u001b[0m\u001b[0;34m\u001b[0m\u001b[0m\n\u001b[1;32m    415\u001b[0m                 \u001b[0;32mif\u001b[0m \u001b[0mwatch\u001b[0m \u001b[0;32mor\u001b[0m \u001b[0mself\u001b[0m\u001b[0;34m.\u001b[0m\u001b[0mkfp\u001b[0m\u001b[0;34m:\u001b[0m\u001b[0;34m\u001b[0m\u001b[0;34m\u001b[0m\u001b[0m\n\u001b[0;32m--> 416\u001b[0;31m                     \u001b[0mrunspec\u001b[0m\u001b[0;34m.\u001b[0m\u001b[0mlogs\u001b[0m\u001b[0;34m(\u001b[0m\u001b[0;32mTrue\u001b[0m\u001b[0;34m,\u001b[0m \u001b[0mself\u001b[0m\u001b[0;34m.\u001b[0m\u001b[0m_get_db\u001b[0m\u001b[0;34m(\u001b[0m\u001b[0;34m)\u001b[0m\u001b[0;34m)\u001b[0m\u001b[0;34m\u001b[0m\u001b[0;34m\u001b[0m\u001b[0m\n\u001b[0m\u001b[1;32m    417\u001b[0m                     \u001b[0mresp\u001b[0m \u001b[0;34m=\u001b[0m \u001b[0mself\u001b[0m\u001b[0;34m.\u001b[0m\u001b[0m_get_db_run\u001b[0m\u001b[0;34m(\u001b[0m\u001b[0mrunspec\u001b[0m\u001b[0;34m)\u001b[0m\u001b[0;34m\u001b[0m\u001b[0;34m\u001b[0m\u001b[0m\n\u001b[1;32m    418\u001b[0m             \u001b[0;32mexcept\u001b[0m \u001b[0mException\u001b[0m \u001b[0;32mas\u001b[0m \u001b[0merr\u001b[0m\u001b[0;34m:\u001b[0m\u001b[0;34m\u001b[0m\u001b[0;34m\u001b[0m\u001b[0m\n",
      "\u001b[0;32m~/.pythonlibs/jupyter-svc/lib/python3.7/site-packages/mlrun/model.py\u001b[0m in \u001b[0;36mlogs\u001b[0;34m(self, watch, db)\u001b[0m\n\u001b[1;32m    747\u001b[0m \u001b[0;34m\u001b[0m\u001b[0m\n\u001b[1;32m    748\u001b[0m         \u001b[0;32mif\u001b[0m \u001b[0mdb\u001b[0m\u001b[0;34m.\u001b[0m\u001b[0mkind\u001b[0m \u001b[0;34m==\u001b[0m \u001b[0;34m\"http\"\u001b[0m\u001b[0;34m:\u001b[0m\u001b[0;34m\u001b[0m\u001b[0;34m\u001b[0m\u001b[0m\n\u001b[0;32m--> 749\u001b[0;31m             \u001b[0mstate\u001b[0m \u001b[0;34m=\u001b[0m \u001b[0mdb\u001b[0m\u001b[0;34m.\u001b[0m\u001b[0mwatch_log\u001b[0m\u001b[0;34m(\u001b[0m\u001b[0mself\u001b[0m\u001b[0;34m.\u001b[0m\u001b[0mmetadata\u001b[0m\u001b[0;34m.\u001b[0m\u001b[0muid\u001b[0m\u001b[0;34m,\u001b[0m \u001b[0mself\u001b[0m\u001b[0;34m.\u001b[0m\u001b[0mmetadata\u001b[0m\u001b[0;34m.\u001b[0m\u001b[0mproject\u001b[0m\u001b[0;34m,\u001b[0m \u001b[0mwatch\u001b[0m\u001b[0;34m=\u001b[0m\u001b[0mwatch\u001b[0m\u001b[0;34m)\u001b[0m\u001b[0;34m\u001b[0m\u001b[0;34m\u001b[0m\u001b[0m\n\u001b[0m\u001b[1;32m    750\u001b[0m         \u001b[0;32melse\u001b[0m\u001b[0;34m:\u001b[0m\u001b[0;34m\u001b[0m\u001b[0;34m\u001b[0m\u001b[0m\n\u001b[1;32m    751\u001b[0m             \u001b[0mstate\u001b[0m\u001b[0;34m,\u001b[0m \u001b[0mtext\u001b[0m \u001b[0;34m=\u001b[0m \u001b[0mdb\u001b[0m\u001b[0;34m.\u001b[0m\u001b[0mget_log\u001b[0m\u001b[0;34m(\u001b[0m\u001b[0mself\u001b[0m\u001b[0;34m.\u001b[0m\u001b[0mmetadata\u001b[0m\u001b[0;34m.\u001b[0m\u001b[0muid\u001b[0m\u001b[0;34m,\u001b[0m \u001b[0mself\u001b[0m\u001b[0;34m.\u001b[0m\u001b[0mmetadata\u001b[0m\u001b[0;34m.\u001b[0m\u001b[0mproject\u001b[0m\u001b[0;34m)\u001b[0m\u001b[0;34m\u001b[0m\u001b[0;34m\u001b[0m\u001b[0m\n",
      "\u001b[0;32m~/.pythonlibs/jupyter-svc/lib/python3.7/site-packages/mlrun/db/httpdb.py\u001b[0m in \u001b[0;36mwatch_log\u001b[0;34m(self, uid, project, watch, offset)\u001b[0m\n\u001b[1;32m    315\u001b[0m                 \u001b[0moffset\u001b[0m \u001b[0;34m+=\u001b[0m \u001b[0mlen\u001b[0m\u001b[0;34m(\u001b[0m\u001b[0mtext\u001b[0m\u001b[0;34m)\u001b[0m\u001b[0;34m\u001b[0m\u001b[0;34m\u001b[0m\u001b[0m\n\u001b[1;32m    316\u001b[0m                 \u001b[0;32mif\u001b[0m \u001b[0mnil_resp\u001b[0m \u001b[0;34m<\u001b[0m \u001b[0;36m3\u001b[0m\u001b[0;34m:\u001b[0m\u001b[0;34m\u001b[0m\u001b[0;34m\u001b[0m\u001b[0m\n\u001b[0;32m--> 317\u001b[0;31m                     \u001b[0mtime\u001b[0m\u001b[0;34m.\u001b[0m\u001b[0msleep\u001b[0m\u001b[0;34m(\u001b[0m\u001b[0;36m3\u001b[0m\u001b[0;34m)\u001b[0m\u001b[0;34m\u001b[0m\u001b[0;34m\u001b[0m\u001b[0m\n\u001b[0m\u001b[1;32m    318\u001b[0m                 \u001b[0;32melse\u001b[0m\u001b[0;34m:\u001b[0m\u001b[0;34m\u001b[0m\u001b[0;34m\u001b[0m\u001b[0m\n\u001b[1;32m    319\u001b[0m                     \u001b[0mtime\u001b[0m\u001b[0;34m.\u001b[0m\u001b[0msleep\u001b[0m\u001b[0;34m(\u001b[0m\u001b[0;36m10\u001b[0m\u001b[0;34m)\u001b[0m\u001b[0;34m\u001b[0m\u001b[0;34m\u001b[0m\u001b[0m\n",
      "\u001b[0;31mKeyboardInterrupt\u001b[0m: "
     ]
    }
   ],
   "source": [
    "describe_run = describe.run(params={'label_column': 'diabetes_mellitus2'},\n",
    "                            inputs={\"table\":\n",
    "                                    train_run.outputs['test_set']})"
   ]
  },
  {
   "cell_type": "code",
   "execution_count": 73,
   "metadata": {
    "collapsed": true,
    "jupyter": {
     "outputs_hidden": true
    }
   },
   "outputs": [
    {
     "ename": "KeyError",
     "evalue": "'histograms'",
     "output_type": "error",
     "traceback": [
      "\u001b[0;31m---------------------------------------------------------------------------\u001b[0m",
      "\u001b[0;31mKeyError\u001b[0m                                  Traceback (most recent call last)",
      "\u001b[0;32m<ipython-input-73-384817aed9e7>\u001b[0m in \u001b[0;36m<module>\u001b[0;34m\u001b[0m\n\u001b[1;32m      1\u001b[0m \u001b[0;32mfrom\u001b[0m \u001b[0mIPython\u001b[0m\u001b[0;34m.\u001b[0m\u001b[0mdisplay\u001b[0m \u001b[0;32mimport\u001b[0m \u001b[0mdisplay\u001b[0m\u001b[0;34m,\u001b[0m \u001b[0mHTML\u001b[0m\u001b[0;34m\u001b[0m\u001b[0;34m\u001b[0m\u001b[0m\n\u001b[1;32m      2\u001b[0m \u001b[0;31m# Display the `histograms` artifact\u001b[0m\u001b[0;34m\u001b[0m\u001b[0;34m\u001b[0m\u001b[0;34m\u001b[0m\u001b[0m\n\u001b[0;32m----> 3\u001b[0;31m \u001b[0mdisplay\u001b[0m\u001b[0;34m(\u001b[0m\u001b[0mHTML\u001b[0m\u001b[0;34m(\u001b[0m\u001b[0mmlrun\u001b[0m\u001b[0;34m.\u001b[0m\u001b[0mget_dataitem\u001b[0m\u001b[0;34m(\u001b[0m\u001b[0mdescribe_run\u001b[0m\u001b[0;34m.\u001b[0m\u001b[0moutputs\u001b[0m\u001b[0;34m[\u001b[0m\u001b[0;34m'histograms'\u001b[0m\u001b[0;34m]\u001b[0m\u001b[0;34m)\u001b[0m\u001b[0;34m.\u001b[0m\u001b[0mget\u001b[0m\u001b[0;34m(\u001b[0m\u001b[0;34m)\u001b[0m\u001b[0;34m.\u001b[0m\u001b[0mdecode\u001b[0m\u001b[0;34m(\u001b[0m\u001b[0;34m'utf-8'\u001b[0m\u001b[0;34m)\u001b[0m\u001b[0;34m)\u001b[0m\u001b[0;34m)\u001b[0m\u001b[0;34m\u001b[0m\u001b[0;34m\u001b[0m\u001b[0m\n\u001b[0m\u001b[1;32m      4\u001b[0m \u001b[0;34m\u001b[0m\u001b[0m\n",
      "\u001b[0;31mKeyError\u001b[0m: 'histograms'"
     ]
    }
   ],
   "source": [
    "from IPython.display import display, HTML\n",
    "# Display the `histograms` artifact\n",
    "display(HTML(mlrun.get_dataitem(describe_run.outputs['histograms']).get().decode('utf-8')))\n",
    "\n"
   ]
  },
  {
   "cell_type": "code",
   "execution_count": null,
   "metadata": {},
   "outputs": [],
   "source": [
    "# Display the `imbalance` artifact\n",
    "display(HTML(mlrun.get_dataitem(describe_run.outputs['imbalance']).get().decode('utf-8')))"
   ]
  },
  {
   "cell_type": "code",
   "execution_count": null,
   "metadata": {},
   "outputs": [],
   "source": [
    "# Display the `correlation` artifact\n",
    "display(HTML(mlrun.get_dataitem(describe_run.outputs['correlation']).get().decode('utf-8')))"
   ]
  },
  {
   "cell_type": "code",
   "execution_count": null,
   "metadata": {},
   "outputs": [],
   "source": [
    "test = mlrun.import_function('hub://test_classifier').apply(auto_mount())# Display the model accuracy\n",
    "print(f'Test Accuracy: {test_run.outputs[\"accuracy\"]}')\n",
    "\n",
    "# Display HTML output artifacts\n",
    "display(HTML(mlrun.get_dataitem(test_run.outputs['confusion-matrix']).get().decode('utf-8')))\n",
    "display(HTML(mlrun.get_dataitem(test_run.outputs['roc-multiclass']).get().decode('utf-8')))"
   ]
  },
  {
   "cell_type": "code",
   "execution_count": null,
   "metadata": {},
   "outputs": [],
   "source": []
  },
  {
   "cell_type": "code",
   "execution_count": 15,
   "metadata": {},
   "outputs": [],
   "source": [
    "#pred, model, res = lgbtrain(dfa, 'diabetes_mellitus')"
   ]
  },
  {
   "cell_type": "code",
   "execution_count": 43,
   "metadata": {},
   "outputs": [
    {
     "data": {
      "text/plain": [
       "array([0, 0, 0, ..., 0, 1, 0])"
      ]
     },
     "execution_count": 43,
     "metadata": {},
     "output_type": "execute_result"
    }
   ],
   "source": []
  },
  {
   "cell_type": "code",
   "execution_count": null,
   "metadata": {},
   "outputs": [],
   "source": [
    "#tn, fp, fn, tp = confusion_matrix(pred, [1, 1, 1, 0]).ravel()"
   ]
  },
  {
   "cell_type": "code",
   "execution_count": null,
   "metadata": {},
   "outputs": [],
   "source": []
  }
 ],
 "metadata": {
  "kernelspec": {
   "display_name": "Python 3",
   "language": "python",
   "name": "python3"
  },
  "language_info": {
   "codemirror_mode": {
    "name": "ipython",
    "version": 3
   },
   "file_extension": ".py",
   "mimetype": "text/x-python",
   "name": "python",
   "nbconvert_exporter": "python",
   "pygments_lexer": "ipython3",
   "version": "3.7.6"
  }
 },
 "nbformat": 4,
 "nbformat_minor": 4
}
