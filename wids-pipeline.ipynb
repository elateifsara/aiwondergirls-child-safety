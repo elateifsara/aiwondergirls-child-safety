{
 "cells": [
  {
   "cell_type": "code",
   "execution_count": 1,
   "metadata": {},
   "outputs": [],
   "source": [
    "import mlrun\n",
    "from sys import path\n",
    "\n",
    "# Load the project with configuration\n",
    "\n",
    "project_name_base = 'widsdb2'\n",
    "project_path = 'conf'\n",
    "widsdb2_proj = mlrun.projects.load_project(project_path,  clone=True)\n",
    "\n",
    "project = widsdb2_proj\n",
    "\n",
    "\n"
   ]
  },
  {
   "cell_type": "code",
   "execution_count": 8,
   "metadata": {},
   "outputs": [],
   "source": [
    "livetester = project.set_function('hub://v2_model_tester', 'live_tester')\n",
    "\n",
    "project.save()"
   ]
  },
  {
   "cell_type": "code",
   "execution_count": 9,
   "metadata": {},
   "outputs": [
    {
     "name": "stdout",
     "output_type": "stream",
     "text": [
      "Overwriting conf/wf.py\n"
     ]
    }
   ],
   "source": [
    "%%writefile {'conf/wf.py' }\n",
    "\n",
    "from kfp import dsl\n",
    "import mlrun\n",
    "from mlrun.platforms import auto_mount\n",
    "\n",
    "\n",
    "funcs = {}\n",
    "DATASET = 'train_enc'\n",
    "TST_DATASET = 'test_enc'\n",
    "LABELS =  'diabetes_mellitus'\n",
    "MODEL = 'lgbm_model'\n",
    "test_src = 'v3io:///projects/widsdb2/artifacts/raw_test_data.csv'\n",
    "train_src =  'v3io:///projects/widsdb2/artifacts/raw_train_data.csv'\n",
    "\n",
    "\n",
    "# Configure function resources and local settings\n",
    "def init_functions(functions: dict, project=None, secrets=None):\n",
    "    for f in functions.values():\n",
    "        f.apply(auto_mount())\n",
    "\n",
    "# Create a Kubeflow Pipelines pipeline\n",
    "@dsl.pipeline(\n",
    "    name=\"WidsDB2\",\n",
    "    description=\"This workflow implements the pipeline for data preprocessing, training model \"\n",
    "                \"serving for Widsdb2 dataset \\n\"\n",
    "                \n",
    ")\n",
    "\n",
    "def kfpipeline(source_url=train_src, test_url=test_src):\n",
    "\n",
    "    # Ingest the data set\n",
    "    ingest = funcs['prep'].as_step(\n",
    "        name=\"prep\",\n",
    "        handler='trdata_prep',\n",
    "        inputs={'src': source_url},\n",
    "        outputs=[DATASET])\n",
    "    \n",
    "     # Ingest the data set\n",
    "    test = funcs['tstprep'].as_step(\n",
    "        name=\"tstprep\",\n",
    "        handler='tstdata_prep',\n",
    "        inputs={'src': test_url},\n",
    "        outputs=[TST_DATASET])\n",
    "    \n",
    "      # Train a model   \n",
    "    train = funcs[\"train-wids\"].as_step(\n",
    "        name=\"train-wids\",\n",
    "        params={\"label_column\": LABELS},\n",
    "        inputs={\"dataset\": ingest.outputs[DATASET]},\n",
    "        outputs=['model', 'test_set'])\n",
    "  \n",
    "     # Deploy the model as a serverless function\n",
    "    deploy = funcs[\"lightgbm-serving\"].deploy_step(\n",
    "        models={f\"{MODEL}_v1\": train.outputs['model']})\n",
    "   \n",
    "    #test out new model server (via REST API calls)\n",
    "    tester = funcs[\"live_tester\"].as_step(name='model-tester',\n",
    "        params={'addr': deploy.outputs['endpoint'], 'model': f\"{MODEL}_v1\", 'label_column':LABELS},\n",
    "        inputs={'table': train.outputs['test_set']})\n",
    "    \n",
    "    \n",
    "           "
   ]
  },
  {
   "cell_type": "code",
   "execution_count": 10,
   "metadata": {},
   "outputs": [],
   "source": [
    "# Register the workflow file as \"infer\"\n",
    "project.set_workflow('infer', 'wf.py')\n"
   ]
  },
  {
   "cell_type": "code",
   "execution_count": 11,
   "metadata": {},
   "outputs": [],
   "source": [
    "project.save()"
   ]
  },
  {
   "cell_type": "code",
   "execution_count": 12,
   "metadata": {},
   "outputs": [
    {
     "data": {
      "text/plain": [
       "'v3io:///projects/{{run.project}}/artifacts'"
      ]
     },
     "execution_count": 12,
     "metadata": {},
     "output_type": "execute_result"
    }
   ],
   "source": [
    "import os \n",
    "from os import environ, path\n",
    "from mlrun import mlconf\n",
    "mlconf.artifact_path\n"
   ]
  },
  {
   "cell_type": "code",
   "execution_count": 13,
   "metadata": {},
   "outputs": [
    {
     "data": {
      "text/html": [
       "Experiment link <a href=\"https://dashboard.default-tenant.app.mlops1.iguazio-c0.com/pipelines/#/experiments/details/4b8af965-6e38-4fe8-9598-3cbdcfdac1cf\" target=\"_blank\" >here</a>"
      ],
      "text/plain": [
       "<IPython.core.display.HTML object>"
      ]
     },
     "metadata": {},
     "output_type": "display_data"
    },
    {
     "data": {
      "text/html": [
       "Run link <a href=\"https://dashboard.default-tenant.app.mlops1.iguazio-c0.com/pipelines/#/runs/details/c9cf3637-9cd0-418a-b209-acfbd1af64d6\" target=\"_blank\" >here</a>"
      ],
      "text/plain": [
       "<IPython.core.display.HTML object>"
      ]
     },
     "metadata": {},
     "output_type": "display_data"
    },
    {
     "name": "stdout",
     "output_type": "stream",
     "text": [
      "> 2021-07-01 12:54:43,405 [info] Pipeline run id=c9cf3637-9cd0-418a-b209-acfbd1af64d6, check UI or DB for progress\n",
      "> 2021-07-01 12:54:43,406 [info] waiting for pipeline run completion\n"
     ]
    },
    {
     "data": {
      "text/html": [
       "<h2>Run Results</h2>Workflow c9cf3637-9cd0-418a-b209-acfbd1af64d6 finished, status=Succeeded<br>click the hyper links below to see detailed results<br><table border=\"1\" class=\"dataframe\">\n",
       "  <thead>\n",
       "    <tr style=\"text-align: right;\">\n",
       "      <th>uid</th>\n",
       "      <th>start</th>\n",
       "      <th>state</th>\n",
       "      <th>name</th>\n",
       "      <th>results</th>\n",
       "      <th>artifacts</th>\n",
       "    </tr>\n",
       "  </thead>\n",
       "  <tbody>\n",
       "    <tr>\n",
       "      <td><div title=\"94ca922f8fe04eb08036dd075bca5ebb\"><a href=\"https://dashboard.default-tenant.app.mlops1.iguazio-c0.com/mlprojects/widsdb2/jobs/monitor/94ca922f8fe04eb08036dd075bca5ebb/overview\" target=\"_blank\" >...5bca5ebb</a></div></td>\n",
       "      <td>Jul 01 12:58:36</td>\n",
       "      <td>completed</td>\n",
       "      <td>model-tester</td>\n",
       "      <td><div class=\"dictlist\">total_tests=20</div><div class=\"dictlist\">errors=0</div><div class=\"dictlist\">match=0</div><div class=\"dictlist\">avg_latency=70011</div><div class=\"dictlist\">min_latency=25155</div><div class=\"dictlist\">max_latency=96646</div></td>\n",
       "      <td><div class=\"artifact\" onclick=\"expandPanel(this)\" paneName=\"result\" title=\"files/v3io/projects/widsdb2/artifacts/pipeline/{{wf.uid}}/latency.html\">latency</div></td>\n",
       "    </tr>\n",
       "    <tr>\n",
       "      <td><div title=\"69db39db191546a191bb2ad60bb53866\"><a href=\"https://dashboard.default-tenant.app.mlops1.iguazio-c0.com/mlprojects/widsdb2/jobs/monitor/69db39db191546a191bb2ad60bb53866/overview\" target=\"_blank\" >...0bb53866</a></div></td>\n",
       "      <td>Jul 01 12:56:25</td>\n",
       "      <td>completed</td>\n",
       "      <td>train-wids</td>\n",
       "      <td></td>\n",
       "      <td><div class=\"artifact\" onclick=\"expandPanel(this)\" paneName=\"result\" title=\"files/v3io/projects/widsdb2/artifacts/pipeline/{{wf.uid}}/data/train_set.csv\">train_set</div><div class=\"artifact\" onclick=\"expandPanel(this)\" paneName=\"result\" title=\"files/v3io/projects/widsdb2/artifacts/pipeline/{{wf.uid}}/data/test_set.csv\">test_set</div><div title=\"v3io:///projects/widsdb2/artifacts/pipeline/{{wf.uid}}/\">model</div></td>\n",
       "    </tr>\n",
       "    <tr>\n",
       "      <td><div title=\"e0907a016f5f491c82a8949c2be09b2e\"><a href=\"https://dashboard.default-tenant.app.mlops1.iguazio-c0.com/mlprojects/widsdb2/jobs/monitor/e0907a016f5f491c82a8949c2be09b2e/overview\" target=\"_blank\" >...2be09b2e</a></div></td>\n",
       "      <td>Jul 01 12:54:56</td>\n",
       "      <td>completed</td>\n",
       "      <td>prep</td>\n",
       "      <td></td>\n",
       "      <td><div class=\"artifact\" onclick=\"expandPanel(this)\" paneName=\"result\" title=\"files/v3io/projects/widsdb2/artifacts/pipeline/{{wf.uid}}/train_enc.csv\">train_enc</div></td>\n",
       "    </tr>\n",
       "    <tr>\n",
       "      <td><div title=\"5da4f00cc8de44d79490375158c5daaf\"><a href=\"https://dashboard.default-tenant.app.mlops1.iguazio-c0.com/mlprojects/widsdb2/jobs/monitor/5da4f00cc8de44d79490375158c5daaf/overview\" target=\"_blank\" >...58c5daaf</a></div></td>\n",
       "      <td>Jul 01 12:54:56</td>\n",
       "      <td>completed</td>\n",
       "      <td>tstprep</td>\n",
       "      <td></td>\n",
       "      <td><div class=\"artifact\" onclick=\"expandPanel(this)\" paneName=\"result\" title=\"files/v3io/projects/widsdb2/artifacts/pipeline/{{wf.uid}}/test_enc.csv\">test_enc</div></td>\n",
       "    </tr>\n",
       "  </tbody>\n",
       "</table>"
      ],
      "text/plain": [
       "<IPython.core.display.HTML object>"
      ]
     },
     "metadata": {},
     "output_type": "display_data"
    }
   ],
   "source": [
    "pipeline_path = mlconf.artifact_path\n",
    "\n",
    "run_id = project.run(\n",
    "    'infer',\n",
    "    arguments={}, \n",
    "    artifact_path=os.path.join(pipeline_path, \"pipeline\", '{{wf.uid}}'),\n",
    "    dirty=True,\n",
    "    watch=True)\n",
    "\n"
   ]
  },
  {
   "cell_type": "code",
   "execution_count": null,
   "metadata": {},
   "outputs": [],
   "source": []
  },
  {
   "cell_type": "code",
   "execution_count": null,
   "metadata": {},
   "outputs": [],
   "source": []
  },
  {
   "cell_type": "code",
   "execution_count": null,
   "metadata": {},
   "outputs": [],
   "source": []
  },
  {
   "cell_type": "code",
   "execution_count": null,
   "metadata": {},
   "outputs": [],
   "source": []
  },
  {
   "cell_type": "code",
   "execution_count": null,
   "metadata": {},
   "outputs": [],
   "source": []
  },
  {
   "cell_type": "code",
   "execution_count": null,
   "metadata": {},
   "outputs": [],
   "source": []
  },
  {
   "cell_type": "code",
   "execution_count": null,
   "metadata": {},
   "outputs": [],
   "source": []
  },
  {
   "cell_type": "code",
   "execution_count": null,
   "metadata": {},
   "outputs": [],
   "source": []
  },
  {
   "cell_type": "code",
   "execution_count": null,
   "metadata": {},
   "outputs": [],
   "source": []
  },
  {
   "cell_type": "code",
   "execution_count": null,
   "metadata": {},
   "outputs": [],
   "source": []
  }
 ],
 "metadata": {
  "kernelspec": {
   "display_name": "Python 3",
   "language": "python",
   "name": "python3"
  },
  "language_info": {
   "codemirror_mode": {
    "name": "ipython",
    "version": 3
   },
   "file_extension": ".py",
   "mimetype": "text/x-python",
   "name": "python",
   "nbconvert_exporter": "python",
   "pygments_lexer": "ipython3",
   "version": "3.7.6"
  }
 },
 "nbformat": 4,
 "nbformat_minor": 4
}
