{
 "cells": [
  {
   "cell_type": "code",
   "execution_count": 13,
   "metadata": {},
   "outputs": [
    {
     "name": "stdout",
     "output_type": "stream",
     "text": [
      "Requirement already satisfied: cdqa in /User/.pythonlibs/jupyter-nb/lib/python3.7/site-packages (1.3.9)\n",
      "Requirement already satisfied: prettytable==0.7.2 in /User/.pythonlibs/jupyter-nb/lib/python3.7/site-packages (from cdqa) (0.7.2)\n",
      "Requirement already satisfied: pandas==0.25.0 in /User/.pythonlibs/jupyter-nb/lib/python3.7/site-packages (from cdqa) (0.25.0)\n",
      "Requirement already satisfied: Flask==1.1.1 in /User/.pythonlibs/jupyter-nb/lib/python3.7/site-packages (from cdqa) (1.1.1)\n",
      "Requirement already satisfied: transformers==2.1.1 in /User/.pythonlibs/jupyter-nb/lib/python3.7/site-packages (from cdqa) (2.1.1)\n",
      "Requirement already satisfied: torch==1.2.0 in /User/.pythonlibs/jupyter-nb/lib/python3.7/site-packages (from cdqa) (1.2.0)\n",
      "Requirement already satisfied: markdown==3.1.1 in /User/.pythonlibs/jupyter-nb/lib/python3.7/site-packages (from cdqa) (3.1.1)\n",
      "Requirement already satisfied: scikit-learn==0.21.2 in /User/.pythonlibs/jupyter-nb/lib/python3.7/site-packages (from cdqa) (0.21.2)\n",
      "Requirement already satisfied: tqdm==4.32.2 in /User/.pythonlibs/jupyter-nb/lib/python3.7/site-packages (from cdqa) (4.32.2)\n",
      "Requirement already satisfied: wget==3.2 in /User/.pythonlibs/jupyter-nb/lib/python3.7/site-packages (from cdqa) (3.2)\n",
      "Requirement already satisfied: joblib==0.13.2 in /User/.pythonlibs/jupyter-nb/lib/python3.7/site-packages (from cdqa) (0.13.2)\n",
      "Requirement already satisfied: flask-cors==3.0.8 in /User/.pythonlibs/jupyter-nb/lib/python3.7/site-packages (from cdqa) (3.0.8)\n",
      "Processing /igz/.cache/pip/wheels/11/59/5d/dcc580e12dccb97b5dcbb02a6ab9ea343dca9755b5ed1b5a2b/tika-1.24-py3-none-any.whl\n",
      "Requirement already satisfied: python-dateutil>=2.6.1 in /conda/lib/python3.7/site-packages (from pandas==0.25.0->cdqa) (2.8.1)\n",
      "Requirement already satisfied: numpy>=1.13.3 in /conda/lib/python3.7/site-packages (from pandas==0.25.0->cdqa) (1.19.2)\n",
      "Requirement already satisfied: pytz>=2017.2 in /conda/lib/python3.7/site-packages (from pandas==0.25.0->cdqa) (2020.1)\n",
      "Requirement already satisfied: itsdangerous>=0.24 in /User/.pythonlibs/jupyter-nb/lib/python3.7/site-packages (from Flask==1.1.1->cdqa) (2.0.1)\n",
      "Requirement already satisfied: Werkzeug>=0.15 in /User/.pythonlibs/jupyter-nb/lib/python3.7/site-packages (from Flask==1.1.1->cdqa) (0.16.1)\n",
      "Requirement already satisfied: click>=5.1 in /conda/lib/python3.7/site-packages (from Flask==1.1.1->cdqa) (7.1.2)\n",
      "Requirement already satisfied: Jinja2>=2.10.1 in /User/.pythonlibs/jupyter-nb/lib/python3.7/site-packages (from Flask==1.1.1->cdqa) (3.0.1)\n",
      "Requirement already satisfied: regex in /User/.pythonlibs/jupyter-nb/lib/python3.7/site-packages (from transformers==2.1.1->cdqa) (2021.7.1)\n",
      "Requirement already satisfied: sentencepiece in /User/.pythonlibs/jupyter-nb/lib/python3.7/site-packages (from transformers==2.1.1->cdqa) (0.1.96)\n",
      "Requirement already satisfied: boto3 in /User/.pythonlibs/jupyter-nb/lib/python3.7/site-packages (from transformers==2.1.1->cdqa) (1.17.49)\n",
      "Requirement already satisfied: requests in /conda/lib/python3.7/site-packages (from transformers==2.1.1->cdqa) (2.24.0)\n",
      "Requirement already satisfied: sacremoses in /User/.pythonlibs/jupyter-nb/lib/python3.7/site-packages (from transformers==2.1.1->cdqa) (0.0.45)\n",
      "Requirement already satisfied: setuptools>=36 in /conda/lib/python3.7/site-packages (from markdown==3.1.1->cdqa) (41.0.0)\n",
      "Requirement already satisfied: scipy>=0.17.0 in /conda/lib/python3.7/site-packages (from scikit-learn==0.21.2->cdqa) (1.4.1)\n",
      "Requirement already satisfied: Six in /User/.pythonlibs/jupyter-nb/lib/python3.7/site-packages (from flask-cors==3.0.8->cdqa) (1.16.0)\n",
      "Requirement already satisfied: MarkupSafe>=2.0 in /User/.pythonlibs/jupyter-nb/lib/python3.7/site-packages (from Jinja2>=2.10.1->Flask==1.1.1->cdqa) (2.0.1)\n",
      "Requirement already satisfied: jmespath<1.0.0,>=0.7.1 in /conda/lib/python3.7/site-packages (from boto3->transformers==2.1.1->cdqa) (0.10.0)\n",
      "Requirement already satisfied: botocore<1.21.0,>=1.20.49 in /User/.pythonlibs/jupyter-nb/lib/python3.7/site-packages (from boto3->transformers==2.1.1->cdqa) (1.20.49)\n",
      "Requirement already satisfied: s3transfer<0.4.0,>=0.3.0 in /User/.pythonlibs/jupyter-nb/lib/python3.7/site-packages (from boto3->transformers==2.1.1->cdqa) (0.3.7)\n",
      "Requirement already satisfied: idna<3,>=2.5 in /conda/lib/python3.7/site-packages (from requests->transformers==2.1.1->cdqa) (2.8)\n",
      "Requirement already satisfied: chardet<4,>=3.0.2 in /conda/lib/python3.7/site-packages (from requests->transformers==2.1.1->cdqa) (3.0.4)\n",
      "Requirement already satisfied: urllib3!=1.25.0,!=1.25.1,<1.26,>=1.21.1 in /conda/lib/python3.7/site-packages (from requests->transformers==2.1.1->cdqa) (1.25.11)\n",
      "Requirement already satisfied: certifi>=2017.4.17 in /conda/lib/python3.7/site-packages (from requests->transformers==2.1.1->cdqa) (2020.12.5)\n",
      "Installing collected packages: tika\n",
      "  Attempting uninstall: tika\n",
      "    Found existing installation: tika 1.24\n",
      "    Uninstalling tika-1.24:\n",
      "      Successfully uninstalled tika-1.24\n",
      "\u001b[31mERROR: After October 2020 you may experience errors when installing or updating packages. This is because pip will change the way that it resolves dependency conflicts.\n",
      "\n",
      "We recommend you use --use-feature=2020-resolver to test your packages with the new resolver before it becomes the default.\n",
      "\n",
      "cdqa 1.3.9 requires tika==1.19, but you'll have tika 1.24 which is incompatible.\u001b[0m\n",
      "Successfully installed tika-1.24\n"
     ]
    }
   ],
   "source": [
    "!pip install cdqa\n"
   ]
  },
  {
   "cell_type": "code",
   "execution_count": 1,
   "metadata": {},
   "outputs": [
    {
     "name": "stderr",
     "output_type": "stream",
     "text": [
      "/User/.pythonlibs/jupyter-nb/lib/python3.7/site-packages/tqdm/autonotebook/__init__.py:18: TqdmExperimentalWarning: Using `tqdm.autonotebook.tqdm` in notebook mode. Use `tqdm.tqdm` instead to force console mode (e.g. in jupyter console)\n",
      "  \" (e.g. in jupyter console)\", TqdmExperimentalWarning)\n"
     ]
    }
   ],
   "source": [
    "import os\n",
    "import pandas as pd\n",
    "from ast import literal_eval\n",
    "\n",
    "\n",
    "from cdqa.pipeline import QAPipeline\n",
    "from cdqa.utils.download import download_model\n"
   ]
  },
  {
   "cell_type": "code",
   "execution_count": 28,
   "metadata": {},
   "outputs": [
    {
     "name": "stdout",
     "output_type": "stream",
     "text": [
      "\n",
      "Downloading trained model...\n"
     ]
    }
   ],
   "source": [
    "download_model(model='bert-squad_1.1', dir='./models')"
   ]
  },
  {
   "cell_type": "code",
   "execution_count": 29,
   "metadata": {},
   "outputs": [],
   "source": [
    "df = pd.read_csv('t2.csv', converters={'paragraphs': literal_eval})\n",
    "#pd.set_option('display.max_colwidth', -1)\n"
   ]
  },
  {
   "cell_type": "code",
   "execution_count": 30,
   "metadata": {},
   "outputs": [
    {
     "name": "stdout",
     "output_type": "stream",
     "text": [
      "<class 'pandas.core.frame.DataFrame'>\n",
      "RangeIndex: 5 entries, 0 to 4\n",
      "Data columns (total 4 columns):\n",
      "id            5 non-null int64\n",
      "title         5 non-null object\n",
      "url           5 non-null object\n",
      "paragraphs    5 non-null object\n",
      "dtypes: int64(1), object(3)\n",
      "memory usage: 288.0+ bytes\n"
     ]
    }
   ],
   "source": [
    "pd.set_option('display.max_colwidth', -1)\n",
    "df.info()"
   ]
  },
  {
   "cell_type": "code",
   "execution_count": 31,
   "metadata": {},
   "outputs": [],
   "source": [
    "#df.head()"
   ]
  },
  {
   "cell_type": "code",
   "execution_count": 32,
   "metadata": {},
   "outputs": [
    {
     "data": {
      "text/plain": [
       "Index(['id', 'title', 'url', 'paragraphs'], dtype='object')"
      ]
     },
     "execution_count": 32,
     "metadata": {},
     "output_type": "execute_result"
    }
   ],
   "source": [
    "df.rename( columns={'Unnamed: 0':'index'}, inplace=True )\n",
    "df.columns"
   ]
  },
  {
   "cell_type": "code",
   "execution_count": 33,
   "metadata": {},
   "outputs": [
    {
     "data": {
      "text/plain": [
       "QAPipeline(reader=BertQA(adam_epsilon=1e-08, bert_model='bert-base-uncased',\n",
       "                         do_lower_case=True, fp16=False,\n",
       "                         gradient_accumulation_steps=1, learning_rate=5e-05,\n",
       "                         local_rank=-1, loss_scale=0, max_answer_length=30,\n",
       "                         n_best_size=20, no_cuda=False,\n",
       "                         null_score_diff_threshold=0.0, num_train_epochs=3.0,\n",
       "                         output_dir=None, predict_batch_size=8, seed=42,\n",
       "                         server_ip='', server_po..._size=8,\n",
       "                         verbose_logging=False, version_2_with_negative=False,\n",
       "                         warmup_proportion=0.1, warmup_steps=0),\n",
       "           retrieve_by_doc=False,\n",
       "           retriever=BM25Retriever(b=0.75, floor=None, k1=2.0, lowercase=True,\n",
       "                                   max_df=1.0, min_df=2, ngram_range=(1, 2),\n",
       "                                   preprocessor=None, stop_words='english',\n",
       "                                   token_pattern='(?u)\\\\b\\\\w\\\\w+\\\\b',\n",
       "                                   tokenizer=None, top_n=20, verbose=False,\n",
       "                                   vocabulary=None))"
      ]
     },
     "execution_count": 33,
     "metadata": {},
     "output_type": "execute_result"
    }
   ],
   "source": [
    "import numpy as np\n",
    "cdqa_pipeline = QAPipeline(reader='./models/bert_qa.joblib', max_df=1.0)\n",
    "\n",
    "cdqa_pipeline.fit_retriever(df=df)"
   ]
  },
  {
   "cell_type": "code",
   "execution_count": 34,
   "metadata": {},
   "outputs": [
    {
     "data": {
      "text/plain": [
       "['./models/bert_qa_custom.joblib']"
      ]
     },
     "execution_count": 34,
     "metadata": {},
     "output_type": "execute_result"
    }
   ],
   "source": [
    "import joblib\n",
    "joblib.dump(cdqa_pipeline, './models/bert_qa_custom.joblib')"
   ]
  },
  {
   "cell_type": "code",
   "execution_count": 35,
   "metadata": {},
   "outputs": [
    {
     "data": {
      "text/plain": [
       "QAPipeline(reader=BertQA(adam_epsilon=1e-08, bert_model='bert-base-uncased',\n",
       "                         do_lower_case=True, fp16=False,\n",
       "                         gradient_accumulation_steps=1, learning_rate=5e-05,\n",
       "                         local_rank=-1, loss_scale=0, max_answer_length=30,\n",
       "                         n_best_size=20, no_cuda=False,\n",
       "                         null_score_diff_threshold=0.0, num_train_epochs=3.0,\n",
       "                         output_dir=None, predict_batch_size=8, seed=42,\n",
       "                         server_ip='', server_po..._size=8,\n",
       "                         verbose_logging=False, version_2_with_negative=False,\n",
       "                         warmup_proportion=0.1, warmup_steps=0),\n",
       "           retrieve_by_doc=False,\n",
       "           retriever=BM25Retriever(b=0.75, floor=None, k1=2.0, lowercase=True,\n",
       "                                   max_df=1.0, min_df=2, ngram_range=(1, 2),\n",
       "                                   preprocessor=None, stop_words='english',\n",
       "                                   token_pattern='(?u)\\\\b\\\\w\\\\w+\\\\b',\n",
       "                                   tokenizer=None, top_n=20, verbose=False,\n",
       "                                   vocabulary=None))"
      ]
     },
     "execution_count": 35,
     "metadata": {},
     "output_type": "execute_result"
    }
   ],
   "source": [
    "cdqa_pipeline=joblib.load('./models/bert_qa_custom.joblib')\n",
    "cdqa_pipeline"
   ]
  },
  {
   "cell_type": "code",
   "execution_count": 38,
   "metadata": {},
   "outputs": [],
   "source": [
    "query = 'what are diabetes risks'\n",
    "prediction = cdqa_pipeline.predict(query,5)"
   ]
  },
  {
   "cell_type": "code",
   "execution_count": 39,
   "metadata": {},
   "outputs": [
    {
     "data": {
      "text/plain": [
       "[('Thromboembolic risk',\n",
       "  's41574-020-00435-4',\n",
       "  'Thromboembolic risk in patients with diabetes melli-tus. Several publications have reported an increased thromboembolic risk among patients with diabetes mellitus outside the specific situation of SARS- CoV-2 infection. For example, a population- based study found that patients with T2DM exhibited an increased risk of venous thromboembolism compared with controls (HR 1.44, 95% CI 1.27–1.63)153. Furthermore, the risks of pulmonary embolism were greater in the patients with T2DM than in the controls (HR 1.52, 95% CI 1.22–1.90)153. Another study found that the incidence ',\n",
       "  4.520924549177537),\n",
       " ('Preadmission diabetes- specific risk factors for mortality in hospitalized patients with diabetes and coronavirus disease',\n",
       "  's41574-020-00435-4',\n",
       "  '213. Agarwal, S., Schechter, C., Southern, W., Crandall, J. P. & Tomer, Y. Preadmission diabetes- specific risk factors for mortality in hospitalized patients with diabetes  and coronavirus disease 2019. Diabetes Care 43, 2339–2344 (2020).',\n",
       "  3.77635814184886),\n",
       " ('persistently hyperglycaemic',\n",
       "  'covid-db2-paper',\n",
       "  'Ketone level monitoring: in patients with type 1 diabetes or insulin-treated type 2 diabetes, espe-cially if persistently hyperglycaemic',\n",
       "  3.504724657677523),\n",
       " ('infectedwith SARS-CoV-2',\n",
       "  'covid-db2-paper',\n",
       "  'Medical therapy for comorbidities ACEI/ARBs are essentialin management of hypertension, heart failure and diabeticnephropathy. Considering the contrasting effects of ACE2on CoV infection and inflammatory lung injury (see aboveand Fig. 1), it is difficult to predict the possible clinicaloutcomes. To date, no clear evidence exists for or against theuse of ACEI/ARBs in people with diabetes at risk or infectedwith SARS-CoV-2, despite the speculations for potentialadverse effects [39]. There are clear competing risks in stop-ping, since the control of hypertension and the protectionagainst renal disease may be compromised. At present, mostinternational organisations have recommended continuationof ACEI/ARBs, unless there are explicit contraindicationssuch as hypotension or acute kidney injury [32, 61].',\n",
       "  3.4637054174872834),\n",
       " ('Coronvirus and diabetes',\n",
       "  'covid-db2-paper',\n",
       "  '50. Diabetes UK (2020) Updates: Coronvirus and diabetes. Availablefrom: https://www.diabetes.org.uk/about_us/news/coronavirus.Accessed 8 Apr 2020',\n",
       "  3.4302589353981747)]"
      ]
     },
     "execution_count": 39,
     "metadata": {},
     "output_type": "execute_result"
    }
   ],
   "source": [
    "prediction"
   ]
  },
  {
   "cell_type": "code",
   "execution_count": 40,
   "metadata": {},
   "outputs": [
    {
     "data": {
      "text/plain": [
       "['bertqa.pkl']"
      ]
     },
     "execution_count": 40,
     "metadata": {},
     "output_type": "execute_result"
    }
   ],
   "source": [
    "from cloudpickle import dumps\n",
    "\n",
    "\n",
    "joblib.dump(cdqa_pipeline, 'bertqa.pkl')"
   ]
  },
  {
   "cell_type": "code",
   "execution_count": 31,
   "metadata": {},
   "outputs": [
    {
     "ename": "NameError",
     "evalue": "name 'context' is not defined",
     "output_type": "error",
     "traceback": [
      "\u001b[0;31m---------------------------------------------------------------------------\u001b[0m",
      "\u001b[0;31mNameError\u001b[0m                                 Traceback (most recent call last)",
      "\u001b[0;32m<ipython-input-31-544e7a0fd87a>\u001b[0m in \u001b[0;36m<module>\u001b[0;34m\u001b[0m\n\u001b[0;32m----> 1\u001b[0;31m context.log_model(\"model\",\n\u001b[0m\u001b[1;32m      2\u001b[0m                         \u001b[0mbody\u001b[0m \u001b[0;34m=\u001b[0m \u001b[0mdumps\u001b[0m\u001b[0;34m(\u001b[0m\u001b[0mcdqa_pipeline\u001b[0m\u001b[0;34m)\u001b[0m\u001b[0;34m,\u001b[0m\u001b[0;34m\u001b[0m\u001b[0;34m\u001b[0m\u001b[0m\n\u001b[1;32m      3\u001b[0m                         \u001b[0mmodel_file\u001b[0m\u001b[0;34m=\u001b[0m\u001b[0;34m'bert_qa.pkl'\u001b[0m\u001b[0;34m,\u001b[0m\u001b[0;34m\u001b[0m\u001b[0;34m\u001b[0m\u001b[0m\n\u001b[1;32m      4\u001b[0m                         labels={\"class\": \"QAPipeline\"})\n\u001b[1;32m      5\u001b[0m \u001b[0;34m\u001b[0m\u001b[0m\n",
      "\u001b[0;31mNameError\u001b[0m: name 'context' is not defined"
     ]
    }
   ],
   "source": [
    "context.log_model(\"model\",\n",
    "                        body = dumps(cdqa_pipeline),\n",
    "                        model_file='bert_qa.pkl',\n",
    "                        labels={\"class\": \"QAPipeline\"})\n",
    "    "
   ]
  },
  {
   "cell_type": "code",
   "execution_count": null,
   "metadata": {},
   "outputs": [],
   "source": []
  }
 ],
 "metadata": {
  "kernelspec": {
   "display_name": "Python 3",
   "language": "python",
   "name": "python3"
  },
  "language_info": {
   "codemirror_mode": {
    "name": "ipython",
    "version": 3
   },
   "file_extension": ".py",
   "mimetype": "text/x-python",
   "name": "python",
   "nbconvert_exporter": "python",
   "pygments_lexer": "ipython3",
   "version": "3.7.6"
  }
 },
 "nbformat": 4,
 "nbformat_minor": 4
}
