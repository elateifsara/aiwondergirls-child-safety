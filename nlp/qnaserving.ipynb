{
 "cells": [
  {
   "cell_type": "code",
   "execution_count": 1,
   "metadata": {},
   "outputs": [
    {
     "ename": "NameError",
     "evalue": "name 'project_path' is not defined",
     "output_type": "error",
     "traceback": [
      "\u001b[0;31m---------------------------------------------------------------------------\u001b[0m",
      "\u001b[0;31mNameError\u001b[0m                                 Traceback (most recent call last)",
      "\u001b[0;32m<ipython-input-1-931c4c334428>\u001b[0m in \u001b[0;36m<module>\u001b[0;34m\u001b[0m\n\u001b[1;32m      8\u001b[0m \u001b[0mproject_dir\u001b[0m \u001b[0;34m=\u001b[0m \u001b[0;34m\"conf\"\u001b[0m\u001b[0;34m\u001b[0m\u001b[0;34m\u001b[0m\u001b[0m\n\u001b[1;32m      9\u001b[0m \u001b[0;34m\u001b[0m\u001b[0m\n\u001b[0;32m---> 10\u001b[0;31m \u001b[0mwidsdb2_proj\u001b[0m \u001b[0;34m=\u001b[0m \u001b[0mmlrun\u001b[0m\u001b[0;34m.\u001b[0m\u001b[0mprojects\u001b[0m\u001b[0;34m.\u001b[0m\u001b[0mload_project\u001b[0m\u001b[0;34m(\u001b[0m\u001b[0mproject_path\u001b[0m\u001b[0;34m,\u001b[0m  \u001b[0mclone\u001b[0m\u001b[0;34m=\u001b[0m\u001b[0;32mTrue\u001b[0m\u001b[0;34m)\u001b[0m\u001b[0;34m\u001b[0m\u001b[0;34m\u001b[0m\u001b[0m\n\u001b[0m\u001b[1;32m     11\u001b[0m \u001b[0;34m\u001b[0m\u001b[0m\n\u001b[1;32m     12\u001b[0m \u001b[0;34m\u001b[0m\u001b[0m\n",
      "\u001b[0;31mNameError\u001b[0m: name 'project_path' is not defined"
     ]
    }
   ],
   "source": [
    "import mlrun\n",
    "\n",
    "# Initialize mlrun environment and load the project\n",
    "from os import path\n",
    "\n",
    "\n",
    "project_name = \"widsdb2\"\n",
    "project_path = \"conf\"\n",
    "\n",
    "widsdb2_proj = mlrun.projects.load_project(project_path,  clone=True)\n",
    "\n",
    "\n",
    "#widsdb2_proj = mlrun.new_project(project_name,\n",
    "#                            context=project_dir,\n",
    "#                            init_git=True,\n",
    "#                            user_project=False)\n"
   ]
  },
  {
   "cell_type": "code",
   "execution_count": 174,
   "metadata": {},
   "outputs": [],
   "source": [
    "%nuclio cmd -c pip install cdqa"
   ]
  },
  {
   "cell_type": "code",
   "execution_count": 175,
   "metadata": {},
   "outputs": [
    {
     "name": "stdout",
     "output_type": "stream",
     "text": [
      "%nuclio: setting spec.build.baseImage to 'mlrun/mlrun'\n",
      "%nuclio: setting kind to 'serving'\n"
     ]
    }
   ],
   "source": [
    "%nuclio config spec.build.baseImage = \"mlrun/mlrun\"\n",
    "%nuclio config kind = \"serving\""
   ]
  },
  {
   "cell_type": "code",
   "execution_count": 176,
   "metadata": {},
   "outputs": [],
   "source": [
    "# nuclio: start-code"
   ]
  },
  {
   "cell_type": "code",
   "execution_count": 177,
   "metadata": {},
   "outputs": [],
   "source": [
    "import os\n",
    "from ast import literal_eval\n",
    "from cdqa.pipeline import QAPipeline\n",
    "from cdqa.utils.download import download_model\n",
    "import joblib\n",
    "import numpy as np\n",
    "from cloudpickle import load\n",
    "import mlrun\n",
    "\n",
    "import sys\n",
    "sys.path.append('/v3io/projects/widsdb2/util')\n",
    "\n",
    "\n",
    "\n",
    "class QnAModel(mlrun.serving.V2ModelServer):\n",
    "    \n",
    "    def load(self):\n",
    "        model_file, extra_data = self.get_model('.pkl')\n",
    "        print(model_file)\n",
    "        self.model = joblib.load(model_file, mmap_mode='r')\n",
    "        #self.model = load(open(model_file, 'rb'))\n",
    "     \n",
    "        #model_file, extra_data = self.get_model('.joblib')\n",
    "        #self.model = joblib.load(open(model_file, 'rb'))\n",
    "\n",
    "    def predict(self, body):\n",
    "        try:\n",
    "            feats = np.asarray(body['inputs'])\n",
    "            print(feats)\n",
    "            query = body['inputs'][0]['query']\n",
    "            print(query)\n",
    "            prediction = self.model.predict(query, 3)\n",
    "            print(prediction)\n",
    "            return prediction\n",
    "            #return prediction.tolist()\n",
    "        except Exception as exc:\n",
    "            raise Exception(f\"Failed to predict {exc}\")"
   ]
  },
  {
   "cell_type": "code",
   "execution_count": 178,
   "metadata": {},
   "outputs": [],
   "source": [
    "# nuclio: end-code"
   ]
  },
  {
   "cell_type": "code",
   "execution_count": 179,
   "metadata": {},
   "outputs": [],
   "source": [
    "import mlrun\n",
    "from mlrun import code_to_function\n",
    "\n",
    "\n",
    "\n",
    "serving_fn = mlrun.code_to_function('QnAserving',\n",
    "                            description=\"QnAServing\",\n",
    "                            categories=['serving', 'ml'],\n",
    "                            labels={'author': 'Aruna', 'framework': 'WQnAModel'})\n",
    "serving_fn.spec.default_class = 'QnAModel'\n",
    "\n",
    "\n"
   ]
  },
  {
   "cell_type": "code",
   "execution_count": 180,
   "metadata": {},
   "outputs": [],
   "source": [
    "#df = pd.read_csv('dm_data.csv')\n",
    "#df"
   ]
  },
  {
   "cell_type": "code",
   "execution_count": 181,
   "metadata": {},
   "outputs": [
    {
     "data": {
      "text/plain": [
       "<mlrun.serving.states.TaskState at 0x7ff97c2d8050>"
      ]
     },
     "execution_count": 181,
     "metadata": {},
     "output_type": "execute_result"
    }
   ],
   "source": [
    "#tmodel=joblib.load('models/bert_qa.joblib')\n",
    "tmodel = 'qa.pkl'\n",
    "serving_fn.add_model('bertqa_model',model_path='/v3io/projects/widsdb2/util/qa.pkl')\n"
   ]
  },
  {
   "cell_type": "code",
   "execution_count": 182,
   "metadata": {},
   "outputs": [
    {
     "data": {
      "text/plain": [
       "<mlrun.runtimes.serving.ServingRuntime at 0x7ff9a95d1f50>"
      ]
     },
     "execution_count": 182,
     "metadata": {},
     "output_type": "execute_result"
    }
   ],
   "source": [
    "widsdb2_proj.set_function(serving_fn)"
   ]
  },
  {
   "cell_type": "code",
   "execution_count": 183,
   "metadata": {},
   "outputs": [],
   "source": [
    "my_data=[{'query': 'what are diabetes mellitus risks ?'}]"
   ]
  },
  {
   "cell_type": "code",
   "execution_count": 184,
   "metadata": {},
   "outputs": [
    {
     "name": "stdout",
     "output_type": "stream",
     "text": [
      "/v3io/projects/widsdb2/util/qa.pkl\n",
      "> 2021-07-05 14:43:59,843 [info] model bertqa_model was loaded\n",
      "> 2021-07-05 14:43:59,845 [info] Loaded ['bertqa_model']\n",
      "[{'query': 'what are diabetes mellitus risks ?'}]\n",
      "what are diabetes mellitus risks ?\n",
      "[('refractory to sulfonylureas', 's41574-020-00435-4', '218. Gerstein, H. C., Thorpe, K. E., Taylor, D. W.  & Haynes, R. B. The effectiveness of hydroxychloroquine in patients with type 2 diabetes mellitus who are refractory to sulfonylureas–a randomized trial. Diabetes Res. Clin. Pract. 55, 209–219 (2002).', 9.91593705015013), ('thromboembolism and bleeding', 's41574-020-00435-4', '157. Overvad, T. F. et\\xa0al. Duration of diabetes mellitus and risk of thromboembolism and bleeding in atrial fibrillation: nationwide cohort study. Stroke 46, 2168–2174 (2015).', 9.8835626472094), ('comorbidities', 's41574-020-00435-4', '44. Cheema, A. K. et\\xa0al. Integrated datasets of proteomic and metabolomic biomarkers to predict its impacts on comorbidities of type 2 diabetes mellitus. Diabetes Metab. Syndr. Obes. 13, 2409–2431 (2020).', 9.633038617049458)]\n"
     ]
    },
    {
     "data": {
      "text/plain": [
       "{'id': '7e8f09a067044269b4212a5563082220',\n",
       " 'model_name': 'bertqa_model',\n",
       " 'outputs': [('refractory to sulfonylureas',\n",
       "   's41574-020-00435-4',\n",
       "   '218. Gerstein, H. C., Thorpe, K. E., Taylor, D. W.  & Haynes, R. B. The effectiveness of hydroxychloroquine in patients with type 2 diabetes mellitus who are refractory to sulfonylureas–a randomized trial. Diabetes Res. Clin. Pract. 55, 209–219 (2002).',\n",
       "   9.91593705015013),\n",
       "  ('thromboembolism and bleeding',\n",
       "   's41574-020-00435-4',\n",
       "   '157. Overvad, T. F. et\\xa0al. Duration of diabetes mellitus and risk of thromboembolism and bleeding in atrial fibrillation: nationwide cohort study. Stroke 46, 2168–2174 (2015).',\n",
       "   9.8835626472094),\n",
       "  ('comorbidities',\n",
       "   's41574-020-00435-4',\n",
       "   '44. Cheema, A. K. et\\xa0al. Integrated datasets of proteomic and metabolomic biomarkers to predict its impacts on comorbidities of type 2 diabetes mellitus. Diabetes Metab. Syndr. Obes. 13, 2409–2431 (2020).',\n",
       "   9.633038617049458)]}"
      ]
     },
     "execution_count": 184,
     "metadata": {},
     "output_type": "execute_result"
    }
   ],
   "source": [
    "## Run the inference with the serving function\n",
    "server = serving_fn.to_mock_server()\n",
    "pred = server.test(\"/v2/models/bertqa_model/infer\", body={\"inputs\": my_data})\n",
    "#server.test(\"/v2/models/bertqa_model/infer\", body={\"inputs\": my_data})\n",
    "pred"
   ]
  },
  {
   "cell_type": "code",
   "execution_count": 185,
   "metadata": {},
   "outputs": [
    {
     "data": {
      "text/plain": [
       "[('refractory to sulfonylureas',\n",
       "  's41574-020-00435-4',\n",
       "  '218. Gerstein, H. C., Thorpe, K. E., Taylor, D. W.  & Haynes, R. B. The effectiveness of hydroxychloroquine in patients with type 2 diabetes mellitus who are refractory to sulfonylureas–a randomized trial. Diabetes Res. Clin. Pract. 55, 209–219 (2002).',\n",
       "  9.91593705015013),\n",
       " ('thromboembolism and bleeding',\n",
       "  's41574-020-00435-4',\n",
       "  '157. Overvad, T. F. et\\xa0al. Duration of diabetes mellitus and risk of thromboembolism and bleeding in atrial fibrillation: nationwide cohort study. Stroke 46, 2168–2174 (2015).',\n",
       "  9.8835626472094),\n",
       " ('comorbidities',\n",
       "  's41574-020-00435-4',\n",
       "  '44. Cheema, A. K. et\\xa0al. Integrated datasets of proteomic and metabolomic biomarkers to predict its impacts on comorbidities of type 2 diabetes mellitus. Diabetes Metab. Syndr. Obes. 13, 2409–2431 (2020).',\n",
       "  9.633038617049458)]"
      ]
     },
     "execution_count": 185,
     "metadata": {},
     "output_type": "execute_result"
    }
   ],
   "source": [
    "pred['outputs']\n",
    "pred['outputs']\n"
   ]
  },
  {
   "cell_type": "code",
   "execution_count": 186,
   "metadata": {},
   "outputs": [
    {
     "name": "stdout",
     "output_type": "stream",
     "text": [
      "> 2021-07-05 14:44:12,496 [info] Starting remote function deploy\n",
      "2021-07-05 14:44:14  (info) Deploying function\n",
      "2021-07-05 14:44:14  (info) Building\n",
      "2021-07-05 14:44:14  (info) Staging files and preparing base images\n",
      "2021-07-05 14:44:14  (info) Building processor image\n",
      "2021-07-05 14:44:23  (info) Build complete\n",
      "2021-07-05 14:44:57  (info) Function deploy complete\n",
      "> 2021-07-05 14:44:58,901 [info] function deployed, address=default-tenant.app.mlops1.iguazio-c0.com:32046\n"
     ]
    }
   ],
   "source": [
    "serving_fn.apply(mlrun.platforms.auto_mount())\n",
    "address = serving_fn.deploy()\n"
   ]
  },
  {
   "cell_type": "code",
   "execution_count": null,
   "metadata": {},
   "outputs": [],
   "source": [
    "## Run the inference with the serving function\n",
    "server = serving_fn.to_mock_server()\n",
    "pred = server.test(\"/v2/models/bertqa_model/infer\", body={\"inputs\": my_data})\n",
    "#server.test(\"/v2/models/bertqa_model/infer\", body={\"inputs\": my_data})\n",
    "pred.outputs"
   ]
  },
  {
   "cell_type": "code",
   "execution_count": 172,
   "metadata": {},
   "outputs": [
    {
     "ename": "TypeError",
     "evalue": "'str' object is not callable",
     "output_type": "error",
     "traceback": [
      "\u001b[0;31m---------------------------------------------------------------------------\u001b[0m",
      "\u001b[0;31mTypeError\u001b[0m                                 Traceback (most recent call last)",
      "\u001b[0;32m<ipython-input-172-4c44c231bbc9>\u001b[0m in \u001b[0;36m<module>\u001b[0;34m\u001b[0m\n\u001b[0;32m----> 1\u001b[0;31m \u001b[0maddress\u001b[0m\u001b[0;34m(\u001b[0m\u001b[0;34m\"/v2/models/bertqa_model/infer\"\u001b[0m\u001b[0;34m,\u001b[0m \u001b[0mbody\u001b[0m\u001b[0;34m=\u001b[0m\u001b[0;34m{\u001b[0m\u001b[0;34m\"inputs\"\u001b[0m\u001b[0;34m:\u001b[0m \u001b[0mmy_data\u001b[0m\u001b[0;34m}\u001b[0m\u001b[0;34m)\u001b[0m\u001b[0;34m\u001b[0m\u001b[0;34m\u001b[0m\u001b[0m\n\u001b[0m",
      "\u001b[0;31mTypeError\u001b[0m: 'str' object is not callable"
     ]
    }
   ],
   "source": [
    "address(\"/v2/models/bertqa_model/infer\", body={\"inputs\": my_data})"
   ]
  },
  {
   "cell_type": "code",
   "execution_count": null,
   "metadata": {},
   "outputs": [],
   "source": []
  }
 ],
 "metadata": {
  "kernelspec": {
   "display_name": "Python 3",
   "language": "python",
   "name": "python3"
  },
  "language_info": {
   "codemirror_mode": {
    "name": "ipython",
    "version": 3
   },
   "file_extension": ".py",
   "mimetype": "text/x-python",
   "name": "python",
   "nbconvert_exporter": "python",
   "pygments_lexer": "ipython3",
   "version": "3.7.6"
  }
 },
 "nbformat": 4,
 "nbformat_minor": 4
}
